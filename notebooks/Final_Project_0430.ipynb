{
 "cells": [
  {
   "cell_type": "markdown",
   "metadata": {},
   "source": [
    "###### T81-577: Applied Data Science for Practioners\n",
    "\n",
    " - Instructor: Asim Banskota, School of Engineering and Applied Science, Washington University in St. Louis\n",
    "\n",
    "# The Final Project\n",
    "\n",
    "### Name: Kunihiro Fujita\n",
    "#### References\n",
    "- https://www.kaggle.com/dejavu23/sms-spam-or-ham-beginner\n",
    "- https://www.kaggle.com/muzzzdy/sms-spam-detection-with-various-classifiers\n",
    "- https://www.kaggle.com/jcbrooks/airlines-delay-and-cancellation-analysis"
   ]
  },
  {
   "cell_type": "markdown",
   "metadata": {},
   "source": [
    "## As for automation by pipeline\n",
    "#### In this project, the both of predictors and target variables doesn't have any missing value. Besides, predictors can be converted to sparse matrix called 'features' as shown below. So, the Principle Component Analysis (PCA) method cannot be used, too. Therefore, I couldn't use pipeline in this case. Instead, I used the function I coded as 'hptuning' in the case of hyperparameter tuning. This function plays a role of automation in the hyperparameter tuning by random grid search."
   ]
  },
  {
   "cell_type": "markdown",
   "metadata": {},
   "source": [
    "# Table of Contents\n",
    "\n",
    "1. [Import necessary libraries and packages](#import)\n",
    "2. [Pre-processing: Exploratory Data Analysis (EDA)](#EDA)\n",
    "3. [Visualization of SMS messages](#VisSMS)<br>\n",
    "    - [Fig.1 Histogram of ham and spam](#fig1)<br>\n",
    "    - [Fig.2 Pie graph](#fig2)<br>\n",
    "    - [Fig.3 Histogram of txt length](#fig3)<br>\n",
    "    - [Fig.4 Histogram of txt length-2 (The merge of two plots of Fig. 3)](#fig4)<br>\n",
    "4. [Visualization by WordCloud](#VisWC)<br>\n",
    "    - [Fig.5 WordCloud for Ham messages](#fig5)<br>\n",
    "    - [Fig.6 WordCloud for Spam messages](#fig6)<br>\n",
    "5. [Data Cleaning for word analysis](#Dclean)<br>\n",
    "    - Lower Case <br>\n",
    "    - Punctuation Removal <br>\n",
    "    - Number of stopwords <br>\n",
    "    - Removal of stopwords <br>\n",
    "    - [Fig.7 The visualization of top 30 frequent word in ham message](#fig7)<br>\n",
    "    - [Fig.8 The visualization of top 30 frequent word in spam message](#fig8)<br>\n",
    "6. [Text vectorization](#Tvec)\n",
    "7. [Classifiers and Predictions](#Clfp)<br>\n",
    "    - [7.1 Support Vector Classifier](#SVC)<br>\n",
    "    - [7.2 K-Nearest Neighbor](#knc)<br>\n",
    "    - [7.3 Multinomial NB](#mnb)<br>\n",
    "    - [7.4 Decision Tree Classifier](#dtc)<br>\n",
    "    - [7.5 Logistic Regression](#lrc)<br>\n",
    "    - [7.6 Random Forest Classifier](#rf)<br>\n",
    "    - [7.7 AdaBoost Classifier](#abc)<br>\n",
    "    - [7.8 Bagging Classifier](#bc)<br>\n",
    "    - [7.9 Extra Trees Classifier](#etc)<br>\n",
    "    - [7.10 Gradient boosting tree](#gb)<br>\n",
    "    - [7.11 Newral network approach](#mlp)<br>\n",
    "    - [Case Study 1](#cs1)<br>\n",
    "    - [Case Study 2 -Stemming-](#cs2)<br>\n",
    "    - [Case Study 3 -Message Length-](#cs3)<br>\n",
    "8. [Results of Case Studies](#Rslts)<br>\n",
    "    - [Fig.9 Result of the Case Study 1](#fig9)<br>\n",
    "    - [Fig.10 Results of the Case Studyies 1 and 2](#fig10)<br>\n",
    "    - [Fig.11 Results of the Case Studyies 1, 2 and 3](#fig11)"
   ]
  },
  {
   "cell_type": "code",
   "execution_count": 1,
   "metadata": {},
   "outputs": [],
   "source": [
    "#%load_ext pycodestyle_magic"
   ]
  },
  {
   "cell_type": "markdown",
   "metadata": {},
   "source": [
    "# 1. Import necessary libraries and packages\n",
    "<a id=\"import\"></a>"
   ]
  },
  {
   "cell_type": "code",
   "execution_count": 2,
   "metadata": {},
   "outputs": [],
   "source": [
    "#%%pycodestyle\n",
    "import string\n",
    "import numpy as np\n",
    "import pandas as pd\n",
    "import seaborn as sns\n",
    "import matplotlib as mpl\n",
    "import matplotlib.pyplot as plt\n",
    "from nltk.corpus import stopwords\n",
    "from nltk.stem import SnowballStemmer\n",
    "from sklearn.model_selection import train_test_split\n",
    "from sklearn.feature_extraction.text import TfidfVectorizer\n",
    "%matplotlib inline"
   ]
  },
  {
   "cell_type": "code",
   "execution_count": 3,
   "metadata": {},
   "outputs": [],
   "source": [
    "#%%pycodestyle\n",
    "import string\n",
    "import string\n",
    "from sklearn.svm import SVC\n",
    "from sklearn.metrics import accuracy_score\n",
    "from sklearn.tree import DecisionTreeClassifier\n",
    "from sklearn.naive_bayes import MultinomialNB\n",
    "from sklearn.ensemble import BaggingClassifier\n",
    "from sklearn.ensemble import AdaBoostClassifier\n",
    "from sklearn.neural_network import MLPClassifier\n",
    "from sklearn.ensemble import ExtraTreesClassifier\n",
    "from sklearn.neighbors import KNeighborsClassifier\n",
    "from sklearn.linear_model import LogisticRegression\n",
    "from sklearn.ensemble import RandomForestClassifier\n",
    "from sklearn.ensemble import GradientBoostingClassifier"
   ]
  },
  {
   "cell_type": "code",
   "execution_count": 61,
   "metadata": {},
   "outputs": [],
   "source": [
    "#%%pycodestyle\n",
    "from sklearn.metrics import f1_score\n",
    "from sklearn.metrics import recall_score\n",
    "from sklearn.metrics import accuracy_score\n",
    "from sklearn.metrics import precision_score\n",
    "from sklearn.metrics import confusion_matrix\n",
    "from sklearn.model_selection import RandomizedSearchCV"
   ]
  },
  {
   "cell_type": "code",
   "execution_count": 5,
   "metadata": {},
   "outputs": [],
   "source": [
    "#%%pycodestyle\n",
    "import wordcloud\n",
    "import matplotlib.pyplot as plt\n",
    "from wordcloud import WordCloud, STOPWORDS"
   ]
  },
  {
   "cell_type": "code",
   "execution_count": 6,
   "metadata": {},
   "outputs": [],
   "source": [
    "#%%pycodestyle\n",
    "import os\n",
    "import sys\n",
    "src_dir = os.path.join(os.getcwd(), '..', 'src')\n",
    "sys.path.append(src_dir)"
   ]
  },
  {
   "cell_type": "markdown",
   "metadata": {},
   "source": [
    "# 2. Pre-processing: Exploratory Data Analysis (EDA)\n",
    "<a id=\"EDA\"></a>"
   ]
  },
  {
   "cell_type": "code",
   "execution_count": 7,
   "metadata": {},
   "outputs": [
    {
     "data": {
      "text/html": [
       "<div>\n",
       "<style scoped>\n",
       "    .dataframe tbody tr th:only-of-type {\n",
       "        vertical-align: middle;\n",
       "    }\n",
       "\n",
       "    .dataframe tbody tr th {\n",
       "        vertical-align: top;\n",
       "    }\n",
       "\n",
       "    .dataframe thead th {\n",
       "        text-align: right;\n",
       "    }\n",
       "</style>\n",
       "<table border=\"1\" class=\"dataframe\">\n",
       "  <thead>\n",
       "    <tr style=\"text-align: right;\">\n",
       "      <th></th>\n",
       "      <th>v1</th>\n",
       "      <th>v2</th>\n",
       "      <th>Unnamed: 2</th>\n",
       "      <th>Unnamed: 3</th>\n",
       "      <th>Unnamed: 4</th>\n",
       "    </tr>\n",
       "  </thead>\n",
       "  <tbody>\n",
       "    <tr>\n",
       "      <td>0</td>\n",
       "      <td>ham</td>\n",
       "      <td>Go until jurong point, crazy.. Available only ...</td>\n",
       "      <td>NaN</td>\n",
       "      <td>NaN</td>\n",
       "      <td>NaN</td>\n",
       "    </tr>\n",
       "    <tr>\n",
       "      <td>1</td>\n",
       "      <td>ham</td>\n",
       "      <td>Ok lar... Joking wif u oni...</td>\n",
       "      <td>NaN</td>\n",
       "      <td>NaN</td>\n",
       "      <td>NaN</td>\n",
       "    </tr>\n",
       "    <tr>\n",
       "      <td>2</td>\n",
       "      <td>spam</td>\n",
       "      <td>Free entry in 2 a wkly comp to win FA Cup fina...</td>\n",
       "      <td>NaN</td>\n",
       "      <td>NaN</td>\n",
       "      <td>NaN</td>\n",
       "    </tr>\n",
       "    <tr>\n",
       "      <td>3</td>\n",
       "      <td>ham</td>\n",
       "      <td>U dun say so early hor... U c already then say...</td>\n",
       "      <td>NaN</td>\n",
       "      <td>NaN</td>\n",
       "      <td>NaN</td>\n",
       "    </tr>\n",
       "    <tr>\n",
       "      <td>4</td>\n",
       "      <td>ham</td>\n",
       "      <td>Nah I don't think he goes to usf, he lives aro...</td>\n",
       "      <td>NaN</td>\n",
       "      <td>NaN</td>\n",
       "      <td>NaN</td>\n",
       "    </tr>\n",
       "  </tbody>\n",
       "</table>\n",
       "</div>"
      ],
      "text/plain": [
       "     v1                                                 v2 Unnamed: 2  \\\n",
       "0   ham  Go until jurong point, crazy.. Available only ...        NaN   \n",
       "1   ham                      Ok lar... Joking wif u oni...        NaN   \n",
       "2  spam  Free entry in 2 a wkly comp to win FA Cup fina...        NaN   \n",
       "3   ham  U dun say so early hor... U c already then say...        NaN   \n",
       "4   ham  Nah I don't think he goes to usf, he lives aro...        NaN   \n",
       "\n",
       "  Unnamed: 3 Unnamed: 4  \n",
       "0        NaN        NaN  \n",
       "1        NaN        NaN  \n",
       "2        NaN        NaN  \n",
       "3        NaN        NaN  \n",
       "4        NaN        NaN  "
      ]
     },
     "execution_count": 7,
     "metadata": {},
     "output_type": "execute_result"
    }
   ],
   "source": [
    "#%%pycodestyle\n",
    "# import raw data from 'raw' folder\n",
    "sms_proc = pd.read_csv('../data/raw/spam.csv', encoding='latin-1')\n",
    "# take a look at the dataset\n",
    "sms_proc.head()"
   ]
  },
  {
   "cell_type": "code",
   "execution_count": 8,
   "metadata": {},
   "outputs": [],
   "source": [
    "#%%pycodestyle\n",
    "# Drop ''unnamed' columns and Rename v1 and v2\n",
    "sms_proc = sms_proc.drop(['Unnamed: 2', 'Unnamed: 3', 'Unnamed: 4'], axis=1)\n",
    "sms_proc = sms_proc.rename(columns={'v1':'label', 'v2':'message'})"
   ]
  },
  {
   "cell_type": "code",
   "execution_count": 9,
   "metadata": {},
   "outputs": [
    {
     "data": {
      "text/html": [
       "<div>\n",
       "<style scoped>\n",
       "    .dataframe tbody tr th:only-of-type {\n",
       "        vertical-align: middle;\n",
       "    }\n",
       "\n",
       "    .dataframe tbody tr th {\n",
       "        vertical-align: top;\n",
       "    }\n",
       "\n",
       "    .dataframe thead th {\n",
       "        text-align: right;\n",
       "    }\n",
       "</style>\n",
       "<table border=\"1\" class=\"dataframe\">\n",
       "  <thead>\n",
       "    <tr style=\"text-align: right;\">\n",
       "      <th></th>\n",
       "      <th>label</th>\n",
       "      <th>message</th>\n",
       "    </tr>\n",
       "  </thead>\n",
       "  <tbody>\n",
       "    <tr>\n",
       "      <td>0</td>\n",
       "      <td>ham</td>\n",
       "      <td>Go until jurong point, crazy.. Available only ...</td>\n",
       "    </tr>\n",
       "    <tr>\n",
       "      <td>1</td>\n",
       "      <td>ham</td>\n",
       "      <td>Ok lar... Joking wif u oni...</td>\n",
       "    </tr>\n",
       "    <tr>\n",
       "      <td>2</td>\n",
       "      <td>spam</td>\n",
       "      <td>Free entry in 2 a wkly comp to win FA Cup fina...</td>\n",
       "    </tr>\n",
       "    <tr>\n",
       "      <td>3</td>\n",
       "      <td>ham</td>\n",
       "      <td>U dun say so early hor... U c already then say...</td>\n",
       "    </tr>\n",
       "    <tr>\n",
       "      <td>4</td>\n",
       "      <td>ham</td>\n",
       "      <td>Nah I don't think he goes to usf, he lives aro...</td>\n",
       "    </tr>\n",
       "  </tbody>\n",
       "</table>\n",
       "</div>"
      ],
      "text/plain": [
       "  label                                            message\n",
       "0   ham  Go until jurong point, crazy.. Available only ...\n",
       "1   ham                      Ok lar... Joking wif u oni...\n",
       "2  spam  Free entry in 2 a wkly comp to win FA Cup fina...\n",
       "3   ham  U dun say so early hor... U c already then say...\n",
       "4   ham  Nah I don't think he goes to usf, he lives aro..."
      ]
     },
     "execution_count": 9,
     "metadata": {},
     "output_type": "execute_result"
    }
   ],
   "source": [
    "#%%pycodestyle\n",
    "sms_proc.head()"
   ]
  },
  {
   "cell_type": "code",
   "execution_count": 10,
   "metadata": {},
   "outputs": [
    {
     "data": {
      "text/plain": [
       "label      False\n",
       "message    False\n",
       "dtype: bool"
      ]
     },
     "execution_count": 10,
     "metadata": {},
     "output_type": "execute_result"
    }
   ],
   "source": [
    "#%%pycodestyle\n",
    "# check if NA exists in each column\n",
    "sms_proc.isnull().any()"
   ]
  },
  {
   "cell_type": "markdown",
   "metadata": {},
   "source": [
    "#### We can confirm that there are no NaN value in 'label' and 'message'."
   ]
  },
  {
   "cell_type": "code",
   "execution_count": 11,
   "metadata": {},
   "outputs": [],
   "source": [
    "#%%pycodestyle\n",
    "# Copy the preporecessed data\n",
    "sms = sms_proc.copy()"
   ]
  },
  {
   "cell_type": "markdown",
   "metadata": {},
   "source": [
    "# 3. Visualization of SMS messages\n",
    "<a id=\"VisSMS\"></a>"
   ]
  },
  {
   "cell_type": "markdown",
   "metadata": {},
   "source": [
    "### Fig.1 Histogram of ham and spam\n",
    "<a id=\"fig1\"></a>"
   ]
  },
  {
   "cell_type": "code",
   "execution_count": 13,
   "metadata": {},
   "outputs": [
    {
     "data": {
      "text/plain": [
       "<matplotlib.axes._subplots.AxesSubplot at 0x11feb6490>"
      ]
     },
     "execution_count": 13,
     "metadata": {},
     "output_type": "execute_result"
    },
    {
     "data": {
      "image/png": "[encoded data removed]",
      "text/plain": [
       "<Figure size 504x360 with 1 Axes>"
      ]
     },
     "metadata": {
      "needs_background": "light"
     },
     "output_type": "display_data"
    }
   ],
   "source": [
    "#%%pycodestyle\n",
    "fig1 = sms\n",
    "plt.style.use('seaborn-bright')\n",
    "plt.rcParams[\"figure.figsize\"] = (7, 5)\n",
    "sns.countplot(x=\"label\", data=fig1, saturation=0.5)"
   ]
  },
  {
   "cell_type": "markdown",
   "metadata": {},
   "source": [
    "### Fig.2 Pie graph\n",
    "<a id=\"fig2\"></a>"
   ]
  },
  {
   "cell_type": "code",
   "execution_count": 15,
   "metadata": {},
   "outputs": [
    {
     "data": {
      "image/png": "[encoded data removed]",
      "text/plain": [
       "<Figure size 432x432 with 1 Axes>"
      ]
     },
     "metadata": {},
     "output_type": "display_data"
    }
   ],
   "source": [
    "#%%pycodestyle\n",
    "sms[\"label\"].value_counts().plot(kind='pie', explode=[0, 0.1], figsize=(6, 6),\n",
    "                                 autopct='%1.1f%%', shadow=True)\n",
    "plt.style.use('seaborn-bright')\n",
    "plt.ylabel(\"Spam vs Ham\")\n",
    "plt.legend([\"Ham\", \"Spam\"])\n",
    "plt.show()"
   ]
  },
  {
   "cell_type": "code",
   "execution_count": 16,
   "metadata": {},
   "outputs": [
    {
     "data": {
      "text/html": [
       "<div>\n",
       "<style scoped>\n",
       "    .dataframe tbody tr th:only-of-type {\n",
       "        vertical-align: middle;\n",
       "    }\n",
       "\n",
       "    .dataframe tbody tr th {\n",
       "        vertical-align: top;\n",
       "    }\n",
       "\n",
       "    .dataframe thead th {\n",
       "        text-align: right;\n",
       "    }\n",
       "</style>\n",
       "<table border=\"1\" class=\"dataframe\">\n",
       "  <thead>\n",
       "    <tr style=\"text-align: right;\">\n",
       "      <th></th>\n",
       "      <th>label</th>\n",
       "      <th>message</th>\n",
       "      <th>length</th>\n",
       "    </tr>\n",
       "  </thead>\n",
       "  <tbody>\n",
       "    <tr>\n",
       "      <td>0</td>\n",
       "      <td>ham</td>\n",
       "      <td>Go until jurong point, crazy.. Available only ...</td>\n",
       "      <td>111</td>\n",
       "    </tr>\n",
       "    <tr>\n",
       "      <td>1</td>\n",
       "      <td>ham</td>\n",
       "      <td>Ok lar... Joking wif u oni...</td>\n",
       "      <td>29</td>\n",
       "    </tr>\n",
       "    <tr>\n",
       "      <td>2</td>\n",
       "      <td>spam</td>\n",
       "      <td>Free entry in 2 a wkly comp to win FA Cup fina...</td>\n",
       "      <td>155</td>\n",
       "    </tr>\n",
       "    <tr>\n",
       "      <td>3</td>\n",
       "      <td>ham</td>\n",
       "      <td>U dun say so early hor... U c already then say...</td>\n",
       "      <td>49</td>\n",
       "    </tr>\n",
       "    <tr>\n",
       "      <td>4</td>\n",
       "      <td>ham</td>\n",
       "      <td>Nah I don't think he goes to usf, he lives aro...</td>\n",
       "      <td>61</td>\n",
       "    </tr>\n",
       "  </tbody>\n",
       "</table>\n",
       "</div>"
      ],
      "text/plain": [
       "  label                                            message  length\n",
       "0   ham  Go until jurong point, crazy.. Available only ...     111\n",
       "1   ham                      Ok lar... Joking wif u oni...      29\n",
       "2  spam  Free entry in 2 a wkly comp to win FA Cup fina...     155\n",
       "3   ham  U dun say so early hor... U c already then say...      49\n",
       "4   ham  Nah I don't think he goes to usf, he lives aro...      61"
      ]
     },
     "execution_count": 16,
     "metadata": {},
     "output_type": "execute_result"
    }
   ],
   "source": [
    "#%%pycodestyle\n",
    "# new feature 'message length'\n",
    "sms['length'] = sms['message'].apply(len)\n",
    "sms.head()"
   ]
  },
  {
   "cell_type": "markdown",
   "metadata": {},
   "source": [
    "### Fig.3 Histogram of txt length\n",
    "<a id=\"fig3\"></a>"
   ]
  },
  {
   "cell_type": "code",
   "execution_count": 17,
   "metadata": {},
   "outputs": [
    {
     "data": {
      "text/plain": [
       "array([<matplotlib.axes._subplots.AxesSubplot object at 0x120f21bd0>,\n",
       "       <matplotlib.axes._subplots.AxesSubplot object at 0x1211f7bd0>],\n",
       "      dtype=object)"
      ]
     },
     "execution_count": 17,
     "metadata": {},
     "output_type": "execute_result"
    },
    {
     "data": {
      "image/png": "[encoded data removed]",
      "text/plain": [
       "<Figure size 792x360 with 2 Axes>"
      ]
     },
     "metadata": {},
     "output_type": "display_data"
    }
   ],
   "source": [
    "#%%pycodestyle\n",
    "sns.set()\n",
    "mpl.rcParams['patch.force_edgecolor'] = True\n",
    "plt.style.use('seaborn-bright')\n",
    "sms.hist(column='length', by='label', bins=50, figsize=(11, 5))"
   ]
  },
  {
   "cell_type": "markdown",
   "metadata": {},
   "source": [
    "The above plot infers that spam message tends to be a lenghthy.\n",
    "The below plot shows the above two plots in one fifgure by label."
   ]
  },
  {
   "cell_type": "markdown",
   "metadata": {},
   "source": [
    "### Fig.4 Histogram of txt length-2 (The merge of two plots of Fig. 3)\n",
    "<a id=\"fig4\"></a>"
   ]
  },
  {
   "cell_type": "code",
   "execution_count": 18,
   "metadata": {},
   "outputs": [
    {
     "data": {
      "image/png": "[encoded data removed]",
      "text/plain": [
       "<Figure size 504x360 with 1 Axes>"
      ]
     },
     "metadata": {},
     "output_type": "display_data"
    }
   ],
   "source": [
    "#%%pycodestyle\n",
    "ax = sns.distplot(\n",
    "    sms.query('label==\"ham\"')['length'],\n",
    "    bins=50,\n",
    "    color='blue',\n",
    "    kde=False,\n",
    "    label='ham'\n",
    ")\n",
    "ax = sns.distplot(\n",
    "    sms.query('label==\"spam\"')['length'],\n",
    "    bins=25,\n",
    "    color='green',\n",
    "    kde=False,\n",
    "    label='spam'\n",
    ")\n",
    "\n",
    "plt.rcParams[\"figure.figsize\"] = (18, 15)\n",
    "ax.set(xlim=(0, 300), ylim=(0, 1500))\n",
    "plt.legend(fontsize='35')\n",
    "plt.show()"
   ]
  },
  {
   "cell_type": "markdown",
   "metadata": {},
   "source": [
    "# 4. Visualization by WordCloud\n",
    "#### WordCloud is a data visualization technique used for representing text data in which the size of each word indicates its frequency or importance. https://www.geeksforgeeks.org/generating-word-cloud-python/\n",
    "<a id=\"VisWC\"></a>"
   ]
  },
  {
   "cell_type": "code",
   "execution_count": 19,
   "metadata": {},
   "outputs": [],
   "source": [
    "#%%pycodestyle\n",
    "sms_ham = sms[sms['label'] == 'ham'].copy()\n",
    "sms_spam = sms[sms['label'] == 'spam'].copy()"
   ]
  },
  {
   "cell_type": "code",
   "execution_count": 21,
   "metadata": {},
   "outputs": [],
   "source": [
    "#%%pycodestyle\n",
    "def show_wordcloud(sms_spam_or_ham, title):\n",
    "    \"\"\"VIsualize by WordCloud.\"\"\"\n",
    "    text = ' '.join(sms_spam_or_ham['message'].astype(str).tolist())\n",
    "    stopwords = set(wordcloud.STOPWORDS)\n",
    "    fig_wordcloud = wordcloud.WordCloud(stopwords=stopwords,\n",
    "                                        background_color='lightgrey',\n",
    "                                        colormap='viridis', width=800,\n",
    "                                        height=600).generate(text)\n",
    "\n",
    "    plt.figure(figsize=(10, 7), frameon=True)\n",
    "    plt.imshow(fig_wordcloud)\n",
    "    plt.axis('off')\n",
    "    plt.title(title, fontsize=20)\n",
    "    plt.show()"
   ]
  },
  {
   "cell_type": "markdown",
   "metadata": {},
   "source": [
    "### Fig.5 WordCloud for Ham messages\n",
    "<a id=\"fig5\"></a>"
   ]
  },
  {
   "cell_type": "code",
   "execution_count": 22,
   "metadata": {},
   "outputs": [
    {
     "data": {
      "image/png": "[encoded data removed]",
      "text/plain": [
       "<Figure size 720x504 with 1 Axes>"
      ]
     },
     "metadata": {},
     "output_type": "display_data"
    }
   ],
   "source": [
    "#%%pycodestyle\n",
    "show_wordcloud(sms_ham, \"Ham messages\")"
   ]
  },
  {
   "cell_type": "markdown",
   "metadata": {},
   "source": [
    "### Fig.6 WordCloud for Spam messages\n",
    "<a id=\"fig6\"></a>"
   ]
  },
  {
   "cell_type": "code",
   "execution_count": 23,
   "metadata": {},
   "outputs": [
    {
     "data": {
      "image/png": "[encoded data removed]",
      "text/plain": [
       "<Figure size 720x504 with 1 Axes>"
      ]
     },
     "metadata": {},
     "output_type": "display_data"
    }
   ],
   "source": [
    "#%%pycodestyle\n",
    "show_wordcloud(sms_spam, \"Spam messages\")"
   ]
  },
  {
   "cell_type": "markdown",
   "metadata": {},
   "source": [
    "# 5. Data Cleaning for word analysis\n",
    "<a id=\"Dclean\"></a>"
   ]
  },
  {
   "cell_type": "code",
   "execution_count": 24,
   "metadata": {},
   "outputs": [],
   "source": [
    "#%%pycodestyle\n",
    "word = sms.copy()"
   ]
  },
  {
   "cell_type": "markdown",
   "metadata": {},
   "source": [
    "### Lower Case\n",
    "#### Converting all texts to lower case"
   ]
  },
  {
   "cell_type": "code",
   "execution_count": 25,
   "metadata": {},
   "outputs": [
    {
     "data": {
      "text/plain": [
       "0    go until jurong point, crazy.. available only ...\n",
       "1                        ok lar... joking wif u oni...\n",
       "2    free entry in 2 a wkly comp to win fa cup fina...\n",
       "3    u dun say so early hor... u c already then say...\n",
       "4    nah i don't think he goes to usf, he lives aro...\n",
       "Name: message, dtype: object"
      ]
     },
     "execution_count": 25,
     "metadata": {},
     "output_type": "execute_result"
    }
   ],
   "source": [
    "#%%pycodestyle\n",
    "# lower case\n",
    "word['message'] = word['message'].apply(lambda x: \" \".join\n",
    "                                        (x.lower() for x in x.split()))\n",
    "word['message'].head()"
   ]
  },
  {
   "cell_type": "markdown",
   "metadata": {},
   "source": [
    "### Punctuation Removal"
   ]
  },
  {
   "cell_type": "code",
   "execution_count": 26,
   "metadata": {},
   "outputs": [
    {
     "data": {
      "text/plain": [
       "0    go until jurong point crazy available only in ...\n",
       "1                              ok lar joking wif u oni\n",
       "2    free entry in 2 a wkly comp to win fa cup fina...\n",
       "3          u dun say so early hor u c already then say\n",
       "4    nah i dont think he goes to usf he lives aroun...\n",
       "Name: message, dtype: object"
      ]
     },
     "execution_count": 26,
     "metadata": {},
     "output_type": "execute_result"
    }
   ],
   "source": [
    "#%%pycodestyle\n",
    "# Remove punctuation\n",
    "word['message'] = word['message'].str.replace(r'[^\\w\\s]', '')\n",
    "word['message'].head()"
   ]
  },
  {
   "cell_type": "markdown",
   "metadata": {},
   "source": [
    "### Number of stopwords\n",
    "Stopwords are the English words such as 'and', 'the', 'you', which does not add much meaning to a sentence. Stopwords are sometimes/often removed to avoid them being analyzed in the case of text analysis.  "
   ]
  },
  {
   "cell_type": "code",
   "execution_count": 27,
   "metadata": {},
   "outputs": [
    {
     "data": {
      "text/html": [
       "<div>\n",
       "<style scoped>\n",
       "    .dataframe tbody tr th:only-of-type {\n",
       "        vertical-align: middle;\n",
       "    }\n",
       "\n",
       "    .dataframe tbody tr th {\n",
       "        vertical-align: top;\n",
       "    }\n",
       "\n",
       "    .dataframe thead th {\n",
       "        text-align: right;\n",
       "    }\n",
       "</style>\n",
       "<table border=\"1\" class=\"dataframe\">\n",
       "  <thead>\n",
       "    <tr style=\"text-align: right;\">\n",
       "      <th></th>\n",
       "      <th>message</th>\n",
       "      <th>stopwords</th>\n",
       "    </tr>\n",
       "  </thead>\n",
       "  <tbody>\n",
       "    <tr>\n",
       "      <td>0</td>\n",
       "      <td>go until jurong point crazy available only in ...</td>\n",
       "      <td>4</td>\n",
       "    </tr>\n",
       "    <tr>\n",
       "      <td>1</td>\n",
       "      <td>ok lar joking wif u oni</td>\n",
       "      <td>0</td>\n",
       "    </tr>\n",
       "    <tr>\n",
       "      <td>2</td>\n",
       "      <td>free entry in 2 a wkly comp to win fa cup fina...</td>\n",
       "      <td>5</td>\n",
       "    </tr>\n",
       "    <tr>\n",
       "      <td>3</td>\n",
       "      <td>u dun say so early hor u c already then say</td>\n",
       "      <td>2</td>\n",
       "    </tr>\n",
       "    <tr>\n",
       "      <td>4</td>\n",
       "      <td>nah i dont think he goes to usf he lives aroun...</td>\n",
       "      <td>5</td>\n",
       "    </tr>\n",
       "  </tbody>\n",
       "</table>\n",
       "</div>"
      ],
      "text/plain": [
       "                                             message  stopwords\n",
       "0  go until jurong point crazy available only in ...          4\n",
       "1                            ok lar joking wif u oni          0\n",
       "2  free entry in 2 a wkly comp to win fa cup fina...          5\n",
       "3        u dun say so early hor u c already then say          2\n",
       "4  nah i dont think he goes to usf he lives aroun...          5"
      ]
     },
     "execution_count": 27,
     "metadata": {},
     "output_type": "execute_result"
    }
   ],
   "source": [
    "#%%pycodestyle\n",
    "# from nltk.corpus import stopwords\n",
    "stop = stopwords.words('english')\n",
    "word['stopwords'] = word['message'].apply(lambda x: len([x for x in x.split()\n",
    "                                                         if x in stop]))\n",
    "word[['message', 'stopwords']].head()"
   ]
  },
  {
   "cell_type": "code",
   "execution_count": 28,
   "metadata": {},
   "outputs": [],
   "source": [
    "#%%pycodestyle\n",
    "word = word.drop('stopwords', axis=1)"
   ]
  },
  {
   "cell_type": "markdown",
   "metadata": {},
   "source": [
    "### Removal of stopwords"
   ]
  },
  {
   "cell_type": "code",
   "execution_count": 29,
   "metadata": {},
   "outputs": [
    {
     "data": {
      "text/plain": [
       "0    go jurong point crazy available bugis n great ...\n",
       "1                              ok lar joking wif u oni\n",
       "2    free entry 2 wkly comp win fa cup final tkts 2...\n",
       "3                  u dun say early hor u c already say\n",
       "4          nah dont think goes usf lives around though\n",
       "Name: message, dtype: object"
      ]
     },
     "execution_count": 29,
     "metadata": {},
     "output_type": "execute_result"
    }
   ],
   "source": [
    "#%%pycodestyle\n",
    "# Remove stopwords\n",
    "from nltk.corpus import stopwords\n",
    "stop = stopwords.words('english')\n",
    "word['message'] = word['message'].apply(lambda x: \" \".join(x for x in x.split()\n",
    "                                                           if x not in stop))\n",
    "word['message'].head()"
   ]
  },
  {
   "cell_type": "markdown",
   "metadata": {},
   "source": [
    "#### Top 30 Frequent word"
   ]
  },
  {
   "cell_type": "code",
   "execution_count": 30,
   "metadata": {},
   "outputs": [
    {
     "data": {
      "text/plain": [
       "u        1119\n",
       "call      576\n",
       "2         478\n",
       "im        462\n",
       "get       386\n",
       "ur        384\n",
       "4         287\n",
       "dont      279\n",
       "go        278\n",
       "ok        277\n",
       "ltgt      276\n",
       "free      275\n",
       "know      257\n",
       "like      242\n",
       "got       238\n",
       "ill       237\n",
       "good      234\n",
       "come      226\n",
       "time      208\n",
       "day       202\n",
       "love      195\n",
       "want      192\n",
       "send      190\n",
       "text      188\n",
       "going     171\n",
       "one       170\n",
       "need      166\n",
       "txt       163\n",
       "home      162\n",
       "lor       160\n",
       "dtype: int64"
      ]
     },
     "execution_count": 30,
     "metadata": {},
     "output_type": "execute_result"
    }
   ],
   "source": [
    "#%%pycodestyle\n",
    "# Top 30 Frequent word\n",
    "freq = pd.Series(' '.join(word['message']).split()).value_counts()[:30]\n",
    "freq"
   ]
  },
  {
   "cell_type": "code",
   "execution_count": 31,
   "metadata": {},
   "outputs": [],
   "source": [
    "#%%pycodestyle\n",
    "word_ham = word.loc[word['label'] == 'ham']\n",
    "word_spam = word.loc[word['label'] == 'spam']"
   ]
  },
  {
   "cell_type": "markdown",
   "metadata": {},
   "source": [
    "#### Top 30 Frequent word in ham message"
   ]
  },
  {
   "cell_type": "code",
   "execution_count": 32,
   "metadata": {},
   "outputs": [
    {
     "data": {
      "text/plain": [
       "u        972\n",
       "im       449\n",
       "2        305\n",
       "get      303\n",
       "ltgt     276\n",
       "ok       272\n",
       "dont     257\n",
       "go       247\n",
       "ur       240\n",
       "ill      236\n",
       "know     232\n",
       "got      231\n",
       "like     229\n",
       "call     229\n",
       "come     224\n",
       "good     222\n",
       "time     189\n",
       "day      187\n",
       "love     185\n",
       "4        168\n",
       "going    167\n",
       "want     163\n",
       "one      162\n",
       "home     160\n",
       "lor      160\n",
       "need     156\n",
       "sorry    153\n",
       "still    146\n",
       "see      137\n",
       "n        134\n",
       "dtype: int64"
      ]
     },
     "execution_count": 32,
     "metadata": {},
     "output_type": "execute_result"
    }
   ],
   "source": [
    "#%%pycodestyle\n",
    "# Top 30 Frequent word in ham message\n",
    "freq_ham = pd.Series(' '.join(word_ham['message']).split()).value_counts()[:30]\n",
    "freq_ham"
   ]
  },
  {
   "cell_type": "code",
   "execution_count": 33,
   "metadata": {},
   "outputs": [
    {
     "data": {
      "text/html": [
       "<div>\n",
       "<style scoped>\n",
       "    .dataframe tbody tr th:only-of-type {\n",
       "        vertical-align: middle;\n",
       "    }\n",
       "\n",
       "    .dataframe tbody tr th {\n",
       "        vertical-align: top;\n",
       "    }\n",
       "\n",
       "    .dataframe thead th {\n",
       "        text-align: right;\n",
       "    }\n",
       "</style>\n",
       "<table border=\"1\" class=\"dataframe\">\n",
       "  <thead>\n",
       "    <tr style=\"text-align: right;\">\n",
       "      <th></th>\n",
       "      <th>total</th>\n",
       "    </tr>\n",
       "  </thead>\n",
       "  <tbody>\n",
       "    <tr>\n",
       "      <td>u</td>\n",
       "      <td>972</td>\n",
       "    </tr>\n",
       "    <tr>\n",
       "      <td>im</td>\n",
       "      <td>449</td>\n",
       "    </tr>\n",
       "    <tr>\n",
       "      <td>2</td>\n",
       "      <td>305</td>\n",
       "    </tr>\n",
       "    <tr>\n",
       "      <td>get</td>\n",
       "      <td>303</td>\n",
       "    </tr>\n",
       "    <tr>\n",
       "      <td>ltgt</td>\n",
       "      <td>276</td>\n",
       "    </tr>\n",
       "  </tbody>\n",
       "</table>\n",
       "</div>"
      ],
      "text/plain": [
       "      total\n",
       "u       972\n",
       "im      449\n",
       "2       305\n",
       "get     303\n",
       "ltgt    276"
      ]
     },
     "execution_count": 33,
     "metadata": {},
     "output_type": "execute_result"
    }
   ],
   "source": [
    "#%%pycodestyle\n",
    "freq_ham = pd.DataFrame(freq_ham)\n",
    "column = [\"total\"]\n",
    "freq_ham.columns = column\n",
    "freq_ham.head()"
   ]
  },
  {
   "cell_type": "code",
   "execution_count": 34,
   "metadata": {},
   "outputs": [],
   "source": [
    "#%%pycodestyle\n",
    "x = freq_ham.index"
   ]
  },
  {
   "cell_type": "markdown",
   "metadata": {},
   "source": [
    "### Fig.7 The visualization of top 30 frequent word in ham message\n",
    "<a id=\"fig7\"></a>"
   ]
  },
  {
   "cell_type": "code",
   "execution_count": 35,
   "metadata": {},
   "outputs": [
    {
     "data": {
      "image/png": "[encoded data removed]",
      "text/plain": [
       "<Figure size 1440x576 with 1 Axes>"
      ]
     },
     "metadata": {},
     "output_type": "display_data"
    }
   ],
   "source": [
    "#%%pycodestyle\n",
    "plt.figure(figsize=(20, 8))\n",
    "sns.set_context(\"notebook\", 0.9, {\"lines.linewidth\": 4})\n",
    "sns.set_style(style='whitegrid')\n",
    "ax = sns.barplot(x, data=freq_ham, y=\"total\")\n",
    "ax.set(ylabel='total')\n",
    "# plt.xticks(rotation=90)\n",
    "plt.show()"
   ]
  },
  {
   "cell_type": "markdown",
   "metadata": {},
   "source": [
    "#### Top 30 Frequent word in spam message"
   ]
  },
  {
   "cell_type": "code",
   "execution_count": 36,
   "metadata": {},
   "outputs": [
    {
     "data": {
      "text/plain": [
       "call          347\n",
       "free          216\n",
       "2             173\n",
       "txt           150\n",
       "u             147\n",
       "ur            144\n",
       "mobile        123\n",
       "text          120\n",
       "4             119\n",
       "stop          113\n",
       "claim         113\n",
       "reply         101\n",
       "prize          92\n",
       "get            83\n",
       "new            69\n",
       "send           67\n",
       "nokia          65\n",
       "urgent         63\n",
       "cash           62\n",
       "win            60\n",
       "contact        56\n",
       "service        55\n",
       "please         52\n",
       "guaranteed     50\n",
       "customer       49\n",
       "week           49\n",
       "16             49\n",
       "tone           48\n",
       "per            46\n",
       "phone          45\n",
       "dtype: int64"
      ]
     },
     "execution_count": 36,
     "metadata": {},
     "output_type": "execute_result"
    }
   ],
   "source": [
    "#%%pycodestyle\n",
    "# Top 30 Frequent word in spam message\n",
    "freq_spam = pd.Series(' '.join\n",
    "                      (word_spam['message']).split()).value_counts()[:30]\n",
    "freq_spam"
   ]
  },
  {
   "cell_type": "code",
   "execution_count": 37,
   "metadata": {},
   "outputs": [
    {
     "data": {
      "text/html": [
       "<div>\n",
       "<style scoped>\n",
       "    .dataframe tbody tr th:only-of-type {\n",
       "        vertical-align: middle;\n",
       "    }\n",
       "\n",
       "    .dataframe tbody tr th {\n",
       "        vertical-align: top;\n",
       "    }\n",
       "\n",
       "    .dataframe thead th {\n",
       "        text-align: right;\n",
       "    }\n",
       "</style>\n",
       "<table border=\"1\" class=\"dataframe\">\n",
       "  <thead>\n",
       "    <tr style=\"text-align: right;\">\n",
       "      <th></th>\n",
       "      <th>total</th>\n",
       "    </tr>\n",
       "  </thead>\n",
       "  <tbody>\n",
       "    <tr>\n",
       "      <td>call</td>\n",
       "      <td>347</td>\n",
       "    </tr>\n",
       "    <tr>\n",
       "      <td>free</td>\n",
       "      <td>216</td>\n",
       "    </tr>\n",
       "    <tr>\n",
       "      <td>2</td>\n",
       "      <td>173</td>\n",
       "    </tr>\n",
       "    <tr>\n",
       "      <td>txt</td>\n",
       "      <td>150</td>\n",
       "    </tr>\n",
       "    <tr>\n",
       "      <td>u</td>\n",
       "      <td>147</td>\n",
       "    </tr>\n",
       "  </tbody>\n",
       "</table>\n",
       "</div>"
      ],
      "text/plain": [
       "      total\n",
       "call    347\n",
       "free    216\n",
       "2       173\n",
       "txt     150\n",
       "u       147"
      ]
     },
     "execution_count": 37,
     "metadata": {},
     "output_type": "execute_result"
    }
   ],
   "source": [
    "#%%pycodestyle\n",
    "freq_spam = pd.DataFrame(freq_spam)\n",
    "column = [\"total\"]\n",
    "freq_spam.columns = column\n",
    "freq_spam.head()"
   ]
  },
  {
   "cell_type": "code",
   "execution_count": 38,
   "metadata": {},
   "outputs": [],
   "source": [
    "#%%pycodestyle\n",
    "x = freq_spam.index"
   ]
  },
  {
   "cell_type": "markdown",
   "metadata": {},
   "source": [
    "### Fig.8 The visualization of top 30 frequent word in spam message\n",
    "<a id=\"fig8\"></a>"
   ]
  },
  {
   "cell_type": "code",
   "execution_count": 39,
   "metadata": {},
   "outputs": [
    {
     "data": {
      "image/png": "[encoded data removed]",
      "text/plain": [
       "<Figure size 1440x576 with 1 Axes>"
      ]
     },
     "metadata": {},
     "output_type": "display_data"
    }
   ],
   "source": [
    "#%%pycodestyle\n",
    "plt.figure(figsize=(20, 8))\n",
    "sns.set_context(\"notebook\", 0.9, {\"lines.linewidth\": 4})\n",
    "ax = sns.barplot(x, data=freq_spam, y=\"total\")\n",
    "ax.set(ylabel='total')\n",
    "# plt.xticks(rotation=90)\n",
    "plt.show()"
   ]
  },
  {
   "cell_type": "markdown",
   "metadata": {},
   "source": [
    "# 6. Text vectorization\n",
    "<a id=\"Tvec\"></a>"
   ]
  },
  {
   "cell_type": "code",
   "execution_count": 62,
   "metadata": {},
   "outputs": [],
   "source": [
    "#%%pycodestyle\n",
    "text_msg = sms['message'].copy()"
   ]
  },
  {
   "cell_type": "code",
   "execution_count": 63,
   "metadata": {},
   "outputs": [],
   "source": [
    "#%%pycodestyle\n",
    "def text_process(text):\n",
    "    \"\"\"Remove punctuation and stopwords\"\"\"\n",
    "    text = text.translate(str.maketrans(' ', ' ', string.punctuation))\n",
    "    text = [word for word in text.split() if word.lower() not in\n",
    "            stopwords.words('english')]\n",
    "    return \" \".join(text)"
   ]
  },
  {
   "cell_type": "code",
   "execution_count": 64,
   "metadata": {},
   "outputs": [],
   "source": [
    "#%%pycodestyle\n",
    "text_msg = text_msg.apply(text_process)"
   ]
  },
  {
   "cell_type": "code",
   "execution_count": 65,
   "metadata": {},
   "outputs": [],
   "source": [
    "#%%pycodestyle\n",
    "vectorizer = TfidfVectorizer(\"english\")"
   ]
  },
  {
   "cell_type": "code",
   "execution_count": 66,
   "metadata": {},
   "outputs": [],
   "source": [
    "#%%pycodestyle\n",
    "features = vectorizer.fit_transform(text_msg)"
   ]
  },
  {
   "cell_type": "markdown",
   "metadata": {},
   "source": [
    "# 7. Classifiers and Predictions\n",
    "<a id=\"Clfp\"></a>"
   ]
  },
  {
   "cell_type": "code",
   "execution_count": 67,
   "metadata": {},
   "outputs": [],
   "source": [
    "#%%pycodestyle\n",
    "# Split our features to test and train set\n",
    "features_train, features_test, labels_train, labels_test = train_test_split(\n",
    "    features, sms['label'], test_size=0.3, random_state=111)"
   ]
  },
  {
   "cell_type": "markdown",
   "metadata": {},
   "source": [
    "#### Automation by the hyperparameter"
   ]
  },
  {
   "cell_type": "code",
   "execution_count": 68,
   "metadata": {},
   "outputs": [],
   "source": [
    "#%%pycodestyle\n",
    "def hptuning(clf, param_grid):\n",
    "    \"\"\"Hyperparameter Tuning.\"\"\"\n",
    "    random_grid_search = RandomizedSearchCV(\n",
    "        estimator=clf, param_distributions=param_grid)\n",
    "    random_grid_search.fit(features_train, labels_train)\n",
    "    best_grid_randomsearch = random_grid_search.best_estimator_\n",
    "    print('Best hyperparameters ... \\n', best_grid_randomsearch)"
   ]
  },
  {
   "cell_type": "code",
   "execution_count": 83,
   "metadata": {},
   "outputs": [],
   "source": [
    "#from features import hyperparameter_tuning\n",
    "#from features.hyperparameter_tuning import hptuning"
   ]
  },
  {
   "cell_type": "markdown",
   "metadata": {},
   "source": [
    "### 7.1 Support Vector Classifier\n",
    "<a id=\"SVC\"></a>"
   ]
  },
  {
   "cell_type": "code",
   "execution_count": 70,
   "metadata": {},
   "outputs": [
    {
     "name": "stdout",
     "output_type": "stream",
     "text": [
      "SVC(C=1.0, cache_size=200, class_weight=None, coef0=0.0,\n",
      "    decision_function_shape='ovr', degree=3, gamma='auto_deprecated',\n",
      "    kernel='rbf', max_iter=-1, probability=False, random_state=None,\n",
      "    shrinking=True, tol=0.001, verbose=False)\n"
     ]
    }
   ],
   "source": [
    "#%%pycodestyle\n",
    "svc = SVC()\n",
    "print(svc)"
   ]
  },
  {
   "cell_type": "markdown",
   "metadata": {},
   "source": [
    "#### Hyperparameter tuning by random search"
   ]
  },
  {
   "cell_type": "code",
   "execution_count": 71,
   "metadata": {},
   "outputs": [],
   "source": [
    "#%%pycodestyle\n",
    "param_grid = {\n",
    "    'kernel': ['linear', 'poly', 'rbf', 'sigmoid'],\n",
    "    'gamma': [1.0, 3.0, 5.0, 10.0, 20.0]\n",
    "}"
   ]
  },
  {
   "cell_type": "markdown",
   "metadata": {},
   "source": [
    "#### SVC model run "
   ]
  },
  {
   "cell_type": "code",
   "execution_count": 49,
   "metadata": {},
   "outputs": [
    {
     "name": "stdout",
     "output_type": "stream",
     "text": [
      "Recall: 0.930\n",
      "Precision: 0.984\n",
      "Accuracy: 0.980\n",
      "F1: 0.955\n",
      "[[1438    2]\n",
      " [  32  200]]\n"
     ]
    }
   ],
   "source": [
    "#%%pycodestyle\n",
    "np.set_printoptions(formatter={'float': lambda x: \"{0:0.3f}\".format(x)})\n",
    "svc = SVC(kernel='linear', gamma=5.0, random_state=111).fit(\n",
    "    features_train, labels_train)\n",
    "labels_pred = svc.predict(features_test)\n",
    "print('Recall: {:.3f}'.format(recall_score(labels_test, labels_pred,\n",
    "                                           average='macro')))\n",
    "print('Precision: {:.3f}'.format(precision_score(labels_test, labels_pred,\n",
    "                                                 average='macro')))\n",
    "print('Accuracy: {:.3f}'.format(accuracy_score(labels_test, labels_pred)))\n",
    "print('F1: {:.3f}'.format(f1_score(labels_test, labels_pred, average='macro')))\n",
    "confusion = confusion_matrix(labels_test, labels_pred)\n",
    "print(confusion)"
   ]
  },
  {
   "cell_type": "markdown",
   "metadata": {},
   "source": [
    "### 7.2 K-Nearest Neighbor\n",
    "<a id=\"knc\"></a>"
   ]
  },
  {
   "cell_type": "code",
   "execution_count": 50,
   "metadata": {},
   "outputs": [
    {
     "name": "stdout",
     "output_type": "stream",
     "text": [
      "KNeighborsClassifier(algorithm='auto', leaf_size=30, metric='minkowski',\n",
      "                     metric_params=None, n_jobs=None, n_neighbors=5, p=2,\n",
      "                     weights='uniform')\n"
     ]
    }
   ],
   "source": [
    "#%%pycodestyle\n",
    "knc = KNeighborsClassifier()\n",
    "print(knc)"
   ]
  },
  {
   "cell_type": "markdown",
   "metadata": {},
   "source": [
    "#### Hyperparameter tuning by random search"
   ]
  },
  {
   "cell_type": "code",
   "execution_count": 60,
   "metadata": {},
   "outputs": [],
   "source": [
    "#%%pycodestyle\n",
    "param_grid = {\n",
    "    'n_neighbors': [1, 10, 25, 50, 75, 100]\n",
    "}"
   ]
  },
  {
   "cell_type": "code",
   "execution_count": 62,
   "metadata": {},
   "outputs": [
    {
     "name": "stderr",
     "output_type": "stream",
     "text": [
      "//miniconda3/lib/python3.7/site-packages/sklearn/model_selection/_split.py:1978: FutureWarning: The default value of cv will change from 3 to 5 in version 0.22. Specify it explicitly to silence this warning.\n",
      "  warnings.warn(CV_WARNING, FutureWarning)\n",
      "//miniconda3/lib/python3.7/site-packages/sklearn/model_selection/_search.py:266: UserWarning: The total space of parameters 6 is smaller than n_iter=10. Running 6 iterations. For exhaustive searches, use GridSearchCV.\n",
      "  % (grid_size, self.n_iter, grid_size), UserWarning)\n"
     ]
    },
    {
     "name": "stdout",
     "output_type": "stream",
     "text": [
      "Best hyperparameters ... \n",
      " KNeighborsClassifier(algorithm='auto', leaf_size=30, metric='minkowski',\n",
      "                     metric_params=None, n_jobs=None, n_neighbors=1, p=2,\n",
      "                     weights='uniform')\n"
     ]
    }
   ],
   "source": [
    "#%%pycodestyle\n",
    "# Hyperparameter tuning\n",
    "rgs = hptuning(knc, param_grid)"
   ]
  },
  {
   "cell_type": "markdown",
   "metadata": {},
   "source": [
    "#### K-Nearest Neighbor model run "
   ]
  },
  {
   "cell_type": "code",
   "execution_count": 51,
   "metadata": {},
   "outputs": [
    {
     "name": "stdout",
     "output_type": "stream",
     "text": [
      "Recall: 0.797\n",
      "Precision: 0.969\n",
      "Accuracy: 0.944\n",
      "F1: 0.857\n",
      "[[1440    0]\n",
      " [  94  138]]\n"
     ]
    }
   ],
   "source": [
    "#%%pycodestyle\n",
    "np.set_printoptions(formatter={'float': lambda x: \"{0:0.3f}\".format(x)})\n",
    "knc = KNeighborsClassifier(n_neighbors=1).fit(features_train, labels_train)\n",
    "labels_pred = knc.predict(features_test)\n",
    "\n",
    "print('Recall: {:.3f}'.format(recall_score(labels_test, labels_pred,\n",
    "                                           average='macro')))\n",
    "print('Precision: {:.3f}'.format(precision_score(labels_test, labels_pred,\n",
    "                                                 average='macro')))\n",
    "print('Accuracy: {:.3f}'.format(accuracy_score(labels_test, labels_pred)))\n",
    "print('F1: {:.3f}'.format(f1_score(labels_test, labels_pred, average='macro')))\n",
    "confusion = confusion_matrix(labels_test, labels_pred)\n",
    "print(confusion)"
   ]
  },
  {
   "cell_type": "markdown",
   "metadata": {},
   "source": [
    "### 7.3 Multinomial NB\n",
    "<a id=\"mnb\"></a>"
   ]
  },
  {
   "cell_type": "code",
   "execution_count": 52,
   "metadata": {},
   "outputs": [
    {
     "name": "stdout",
     "output_type": "stream",
     "text": [
      "MultinomialNB(alpha=1.0, class_prior=None, fit_prior=True)\n"
     ]
    }
   ],
   "source": [
    "#%%pycodestyle\n",
    "mnb = MultinomialNB()\n",
    "print(mnb)"
   ]
  },
  {
   "cell_type": "markdown",
   "metadata": {},
   "source": [
    "#### Hyperparameter tuning by random search"
   ]
  },
  {
   "cell_type": "code",
   "execution_count": 71,
   "metadata": {},
   "outputs": [],
   "source": [
    "#%%pycodestyle\n",
    "param_grid = {\n",
    "    'alpha': [0.01, 0.1, 0.2, 0.3, 0.4, 0.5, 1.0]\n",
    "}"
   ]
  },
  {
   "cell_type": "code",
   "execution_count": 74,
   "metadata": {},
   "outputs": [
    {
     "name": "stderr",
     "output_type": "stream",
     "text": [
      "//miniconda3/lib/python3.7/site-packages/sklearn/model_selection/_split.py:1978: FutureWarning: The default value of cv will change from 3 to 5 in version 0.22. Specify it explicitly to silence this warning.\n",
      "  warnings.warn(CV_WARNING, FutureWarning)\n",
      "//miniconda3/lib/python3.7/site-packages/sklearn/model_selection/_search.py:266: UserWarning: The total space of parameters 7 is smaller than n_iter=10. Running 7 iterations. For exhaustive searches, use GridSearchCV.\n",
      "  % (grid_size, self.n_iter, grid_size), UserWarning)\n"
     ]
    },
    {
     "name": "stdout",
     "output_type": "stream",
     "text": [
      "Best hyperparameters ... \n",
      " MultinomialNB(alpha=0.2, class_prior=None, fit_prior=True)\n"
     ]
    }
   ],
   "source": [
    "#%%pycodestyle\n",
    "# Hyperparameter tuning\n",
    "rgs = hptuning(mnb, param_grid)"
   ]
  },
  {
   "cell_type": "markdown",
   "metadata": {},
   "source": [
    "#### Multinomial NB model run"
   ]
  },
  {
   "cell_type": "code",
   "execution_count": 53,
   "metadata": {},
   "outputs": [
    {
     "name": "stdout",
     "output_type": "stream",
     "text": [
      "Recall: 0.966\n",
      "Precision: 0.969\n",
      "Accuracy: 0.984\n",
      "F1: 0.967\n",
      "[[1428   12]\n",
      " [  14  218]]\n"
     ]
    }
   ],
   "source": [
    "#%%pycodestyle\n",
    "np.set_printoptions(formatter={'float': lambda x: \"{0:0.3f}\".format(x)})\n",
    "mnb = MultinomialNB(alpha=0.2).fit(features_train, labels_train)\n",
    "labels_pred = mnb.predict(features_test)\n",
    "\n",
    "print('Recall: {:.3f}'.format(recall_score(labels_test, labels_pred,\n",
    "                                           average='macro')))\n",
    "print('Precision: {:.3f}'.format(precision_score(labels_test, labels_pred,\n",
    "                                                 average='macro')))\n",
    "print('Accuracy: {:.3f}'.format(accuracy_score(labels_test, labels_pred)))\n",
    "print('F1: {:.3f}'.format(f1_score(labels_test, labels_pred, average='macro')))\n",
    "confusion = confusion_matrix(labels_test, labels_pred)\n",
    "print(confusion)"
   ]
  },
  {
   "cell_type": "markdown",
   "metadata": {},
   "source": [
    "### 7.4 Decision Tree Classifier\n",
    "<a id=\"dtc\"></a>"
   ]
  },
  {
   "cell_type": "code",
   "execution_count": 54,
   "metadata": {},
   "outputs": [
    {
     "name": "stdout",
     "output_type": "stream",
     "text": [
      "DecisionTreeClassifier(class_weight=None, criterion='gini', max_depth=None,\n",
      "                       max_features=None, max_leaf_nodes=None,\n",
      "                       min_impurity_decrease=0.0, min_impurity_split=None,\n",
      "                       min_samples_leaf=1, min_samples_split=2,\n",
      "                       min_weight_fraction_leaf=0.0, presort=False,\n",
      "                       random_state=None, splitter='best')\n"
     ]
    }
   ],
   "source": [
    "#%%pycodestyle\n",
    "dtc = DecisionTreeClassifier()\n",
    "print(dtc)"
   ]
  },
  {
   "cell_type": "markdown",
   "metadata": {},
   "source": [
    "#### Hyperparameter tuning by random search"
   ]
  },
  {
   "cell_type": "code",
   "execution_count": 81,
   "metadata": {},
   "outputs": [],
   "source": [
    "#%%pycodestyle\n",
    "param_grid = {\n",
    "    'min_samples_split': [2, 5, 7, 10, 30]\n",
    "}"
   ]
  },
  {
   "cell_type": "code",
   "execution_count": 87,
   "metadata": {},
   "outputs": [
    {
     "name": "stderr",
     "output_type": "stream",
     "text": [
      "//miniconda3/lib/python3.7/site-packages/sklearn/model_selection/_split.py:1978: FutureWarning: The default value of cv will change from 3 to 5 in version 0.22. Specify it explicitly to silence this warning.\n",
      "  warnings.warn(CV_WARNING, FutureWarning)\n",
      "//miniconda3/lib/python3.7/site-packages/sklearn/model_selection/_search.py:266: UserWarning: The total space of parameters 5 is smaller than n_iter=10. Running 5 iterations. For exhaustive searches, use GridSearchCV.\n",
      "  % (grid_size, self.n_iter, grid_size), UserWarning)\n"
     ]
    },
    {
     "name": "stdout",
     "output_type": "stream",
     "text": [
      "Best hyperparameters ... \n",
      " DecisionTreeClassifier(class_weight=None, criterion='gini', max_depth=None,\n",
      "                       max_features=None, max_leaf_nodes=None,\n",
      "                       min_impurity_decrease=0.0, min_impurity_split=None,\n",
      "                       min_samples_leaf=1, min_samples_split=7,\n",
      "                       min_weight_fraction_leaf=0.0, presort=False,\n",
      "                       random_state=111, splitter='best')\n"
     ]
    }
   ],
   "source": [
    "#%%pycodestyle\n",
    "# Hyperparameter tuning\n",
    "rgs = hptuning(dtc, param_grid)"
   ]
  },
  {
   "cell_type": "markdown",
   "metadata": {},
   "source": [
    "#### Decision Tree model run "
   ]
  },
  {
   "cell_type": "code",
   "execution_count": 55,
   "metadata": {},
   "outputs": [
    {
     "name": "stdout",
     "output_type": "stream",
     "text": [
      "Recall: 0.907\n",
      "Precision: 0.918\n",
      "Accuracy: 0.959\n",
      "F1: 0.913\n",
      "[[1409   31]\n",
      " [  38  194]]\n"
     ]
    }
   ],
   "source": [
    "#%%pycodestyle\n",
    "np.set_printoptions(formatter={'float': lambda x: \"{0:0.3f}\".format(x)})\n",
    "dtc = DecisionTreeClassifier(min_samples_split=7, random_state=111).fit(\n",
    "    features_train, labels_train)\n",
    "labels_pred = dtc.predict(features_test)\n",
    "\n",
    "print('Recall: {:.3f}'.format(recall_score(labels_test, labels_pred,\n",
    "                                           average='macro')))\n",
    "print('Precision: {:.3f}'.format(precision_score(labels_test, labels_pred,\n",
    "                                                 average='macro')))\n",
    "print('Accuracy: {:.3f}'.format(accuracy_score(labels_test, labels_pred)))\n",
    "print('F1: {:.3f}'.format(f1_score(labels_test, labels_pred, average='macro')))\n",
    "confusion = confusion_matrix(labels_test, labels_pred)\n",
    "print(confusion)"
   ]
  },
  {
   "cell_type": "markdown",
   "metadata": {},
   "source": [
    "### 7.5 Logistic Regression\n",
    "<a id=\"lrc\"></a>"
   ]
  },
  {
   "cell_type": "code",
   "execution_count": 56,
   "metadata": {},
   "outputs": [
    {
     "name": "stdout",
     "output_type": "stream",
     "text": [
      "LogisticRegression(C=1.0, class_weight=None, dual=False, fit_intercept=True,\n",
      "                   intercept_scaling=1, l1_ratio=None, max_iter=100,\n",
      "                   multi_class='warn', n_jobs=None, penalty='l2',\n",
      "                   random_state=None, solver='warn', tol=0.0001, verbose=0,\n",
      "                   warm_start=False)\n"
     ]
    }
   ],
   "source": [
    "#%%pycodestyle\n",
    "lrc = LogisticRegression()\n",
    "print(lrc)"
   ]
  },
  {
   "cell_type": "markdown",
   "metadata": {},
   "source": [
    "#### Hyperparameter tuning by random search"
   ]
  },
  {
   "cell_type": "code",
   "execution_count": 92,
   "metadata": {},
   "outputs": [],
   "source": [
    "#%%pycodestyle\n",
    "param_grid = {\n",
    "    'solver': ['liblinear', 'saga'],\n",
    "    'penalty': ['l1', 'l2']\n",
    "}"
   ]
  },
  {
   "cell_type": "code",
   "execution_count": 94,
   "metadata": {},
   "outputs": [
    {
     "name": "stderr",
     "output_type": "stream",
     "text": [
      "//miniconda3/lib/python3.7/site-packages/sklearn/model_selection/_split.py:1978: FutureWarning: The default value of cv will change from 3 to 5 in version 0.22. Specify it explicitly to silence this warning.\n",
      "  warnings.warn(CV_WARNING, FutureWarning)\n",
      "//miniconda3/lib/python3.7/site-packages/sklearn/model_selection/_search.py:266: UserWarning: The total space of parameters 4 is smaller than n_iter=10. Running 4 iterations. For exhaustive searches, use GridSearchCV.\n",
      "  % (grid_size, self.n_iter, grid_size), UserWarning)\n",
      "//miniconda3/lib/python3.7/site-packages/sklearn/linear_model/sag.py:337: ConvergenceWarning: The max_iter was reached which means the coef_ did not converge\n",
      "  \"the coef_ did not converge\", ConvergenceWarning)\n"
     ]
    },
    {
     "name": "stdout",
     "output_type": "stream",
     "text": [
      "Best hyperparameters ... \n",
      " LogisticRegression(C=1.0, class_weight=None, dual=False, fit_intercept=True,\n",
      "                   intercept_scaling=1, l1_ratio=None, max_iter=100,\n",
      "                   multi_class='warn', n_jobs=None, penalty='l1',\n",
      "                   random_state=None, solver='liblinear', tol=0.0001, verbose=0,\n",
      "                   warm_start=False)\n"
     ]
    }
   ],
   "source": [
    "#%%pycodestyle\n",
    "# Hyperparameter tuning\n",
    "rgs = hptuning(lrc, param_grid)"
   ]
  },
  {
   "cell_type": "markdown",
   "metadata": {},
   "source": [
    "#### Logistic Regression model run "
   ]
  },
  {
   "cell_type": "code",
   "execution_count": 57,
   "metadata": {},
   "outputs": [
    {
     "name": "stdout",
     "output_type": "stream",
     "text": [
      "Recall: 0.822\n",
      "Precision: 0.929\n",
      "Accuracy: 0.943\n",
      "F1: 0.865\n",
      "[[1425   15]\n",
      " [  80  152]]\n"
     ]
    }
   ],
   "source": [
    "#%%pycodestyle\n",
    "np.set_printoptions(formatter={'float': lambda x: \"{0:0.3f}\".format(x)})\n",
    "lrc = LogisticRegression(solver='liblinear', penalty='l1').fit(\n",
    "    features_train, labels_train)\n",
    "labels_pred = lrc.predict(features_test)\n",
    "\n",
    "print('Recall: {:.3f}'.format(recall_score(labels_test, labels_pred,\n",
    "                                           average='macro')))\n",
    "print('Precision: {:.3f}'.format(precision_score(labels_test, labels_pred,\n",
    "                                                 average='macro')))\n",
    "print('Accuracy: {:.3f}'.format(accuracy_score(labels_test, labels_pred)))\n",
    "print('F1: {:.3f}'.format(f1_score(labels_test, labels_pred, average='macro')))\n",
    "confusion = confusion_matrix(labels_test, labels_pred)\n",
    "print(confusion)"
   ]
  },
  {
   "cell_type": "markdown",
   "metadata": {},
   "source": [
    "### 7.6 Random Forest Classifier\n",
    "<a id=\"rf\"></a>"
   ]
  },
  {
   "cell_type": "code",
   "execution_count": 99,
   "metadata": {},
   "outputs": [
    {
     "name": "stdout",
     "output_type": "stream",
     "text": [
      "RandomForestClassifier(bootstrap=True, class_weight=None, criterion='gini',\n",
      "                       max_depth=None, max_features='auto', max_leaf_nodes=None,\n",
      "                       min_impurity_decrease=0.0, min_impurity_split=None,\n",
      "                       min_samples_leaf=1, min_samples_split=2,\n",
      "                       min_weight_fraction_leaf=0.0, n_estimators='warn',\n",
      "                       n_jobs=None, oob_score=False, random_state=None,\n",
      "                       verbose=0, warm_start=False)\n"
     ]
    }
   ],
   "source": [
    "#%%pycodestyle\n",
    "rf = RandomForestClassifier()\n",
    "print(rf)"
   ]
  },
  {
   "cell_type": "markdown",
   "metadata": {},
   "source": [
    "#### Hyperparameter tuning by random search"
   ]
  },
  {
   "cell_type": "code",
   "execution_count": 101,
   "metadata": {},
   "outputs": [],
   "source": [
    "#%%pycodestyle\n",
    "param_grid = {\n",
    "    'n_estimators': [5, 10, 28, 29, 30, 31, 32, 33, 40, 50],\n",
    "    'random_state': [111]\n",
    "}"
   ]
  },
  {
   "cell_type": "code",
   "execution_count": 103,
   "metadata": {},
   "outputs": [
    {
     "name": "stderr",
     "output_type": "stream",
     "text": [
      "//miniconda3/lib/python3.7/site-packages/sklearn/model_selection/_split.py:1978: FutureWarning: The default value of cv will change from 3 to 5 in version 0.22. Specify it explicitly to silence this warning.\n",
      "  warnings.warn(CV_WARNING, FutureWarning)\n"
     ]
    },
    {
     "name": "stdout",
     "output_type": "stream",
     "text": [
      "Best hyperparameters ... \n",
      " RandomForestClassifier(bootstrap=True, class_weight=None, criterion='gini',\n",
      "                       max_depth=None, max_features='auto', max_leaf_nodes=None,\n",
      "                       min_impurity_decrease=0.0, min_impurity_split=None,\n",
      "                       min_samples_leaf=1, min_samples_split=2,\n",
      "                       min_weight_fraction_leaf=0.0, n_estimators=29,\n",
      "                       n_jobs=None, oob_score=False, random_state=111,\n",
      "                       verbose=0, warm_start=False)\n"
     ]
    }
   ],
   "source": [
    "#%%pycodestyle\n",
    "# Hyperparameter tuning\n",
    "hptuning(rf, param_grid)"
   ]
  },
  {
   "cell_type": "markdown",
   "metadata": {},
   "source": [
    "#### Random Forest model run"
   ]
  },
  {
   "cell_type": "code",
   "execution_count": 58,
   "metadata": {},
   "outputs": [
    {
     "name": "stdout",
     "output_type": "stream",
     "text": [
      "Recall: 0.890\n",
      "Precision: 0.983\n",
      "Accuracy: 0.969\n",
      "F1: 0.930\n",
      "[[1440    0]\n",
      " [  51  181]]\n"
     ]
    }
   ],
   "source": [
    "#%%pycodestyle\n",
    "np.set_printoptions(formatter={'float': lambda x: \"{0:0.3f}\".format(x)})\n",
    "rf = RandomForestClassifier(n_estimators=29, random_state=111).fit(\n",
    "    features_train, labels_train)\n",
    "labels_pred = rf.predict(features_test)\n",
    "\n",
    "print('Recall: {:.3f}'.format(recall_score(labels_test, labels_pred,\n",
    "                                           average='macro')))\n",
    "print('Precision: {:.3f}'.format(precision_score(labels_test, labels_pred,\n",
    "                                                 average='macro')))\n",
    "print('Accuracy: {:.3f}'.format(accuracy_score(labels_test, labels_pred)))\n",
    "print('F1: {:.3f}'.format(f1_score(labels_test, labels_pred, average='macro')))\n",
    "confusion = confusion_matrix(labels_test, labels_pred)\n",
    "print(confusion)"
   ]
  },
  {
   "cell_type": "markdown",
   "metadata": {},
   "source": [
    "### 7.7 AdaBoost Classifier\n",
    "<a id=\"abc\"></a>"
   ]
  },
  {
   "cell_type": "code",
   "execution_count": 108,
   "metadata": {},
   "outputs": [
    {
     "name": "stdout",
     "output_type": "stream",
     "text": [
      "AdaBoostClassifier(algorithm='SAMME.R', base_estimator=None, learning_rate=1.0,\n",
      "                   n_estimators=50, random_state=None)\n"
     ]
    }
   ],
   "source": [
    "#%%pycodestyle\n",
    "abc = AdaBoostClassifier()\n",
    "print(abc)"
   ]
  },
  {
   "cell_type": "markdown",
   "metadata": {},
   "source": [
    "#### Hyperparameter tuning by random search"
   ]
  },
  {
   "cell_type": "code",
   "execution_count": 110,
   "metadata": {},
   "outputs": [],
   "source": [
    "#%%pycodestyle\n",
    "param_grid = {\n",
    "    'n_estimators': [10, 50, 60, 61, 62, 63, 65, 70],\n",
    "    'random_state': [111]\n",
    "}"
   ]
  },
  {
   "cell_type": "code",
   "execution_count": 112,
   "metadata": {},
   "outputs": [
    {
     "name": "stderr",
     "output_type": "stream",
     "text": [
      "//miniconda3/lib/python3.7/site-packages/sklearn/model_selection/_split.py:1978: FutureWarning: The default value of cv will change from 3 to 5 in version 0.22. Specify it explicitly to silence this warning.\n",
      "  warnings.warn(CV_WARNING, FutureWarning)\n",
      "//miniconda3/lib/python3.7/site-packages/sklearn/model_selection/_search.py:266: UserWarning: The total space of parameters 8 is smaller than n_iter=10. Running 8 iterations. For exhaustive searches, use GridSearchCV.\n",
      "  % (grid_size, self.n_iter, grid_size), UserWarning)\n"
     ]
    },
    {
     "name": "stdout",
     "output_type": "stream",
     "text": [
      "Best hyperparameters ... \n",
      " AdaBoostClassifier(algorithm='SAMME.R', base_estimator=None, learning_rate=1.0,\n",
      "                   n_estimators=70, random_state=111)\n"
     ]
    }
   ],
   "source": [
    "#%%pycodestyle\n",
    "# Hyperparameter tuning\n",
    "hptuning(abc, param_grid)"
   ]
  },
  {
   "cell_type": "markdown",
   "metadata": {},
   "source": [
    "#### AdaBoostClassifier model run"
   ]
  },
  {
   "cell_type": "code",
   "execution_count": 59,
   "metadata": {},
   "outputs": [
    {
     "name": "stdout",
     "output_type": "stream",
     "text": [
      "Recall: 0.911\n",
      "Precision: 0.966\n",
      "Accuracy: 0.971\n",
      "F1: 0.936\n",
      "[[1432    8]\n",
      " [  40  192]]\n"
     ]
    }
   ],
   "source": [
    "#%%pycodestyle\n",
    "np.set_printoptions(formatter={'float': lambda x: \"{0:0.3f}\".format(x)})\n",
    "abc = AdaBoostClassifier(n_estimators=70, random_state=111).fit(\n",
    "    features_train, labels_train)\n",
    "labels_pred = abc.predict(features_test)\n",
    "\n",
    "print('Recall: {:.3f}'.format(recall_score(labels_test, labels_pred,\n",
    "                                           average='macro')))\n",
    "print('Precision: {:.3f}'.format(precision_score(labels_test, labels_pred,\n",
    "                                                 average='macro')))\n",
    "print('Accuracy: {:.3f}'.format(accuracy_score(labels_test, labels_pred)))\n",
    "print('F1: {:.3f}'.format(f1_score(labels_test, labels_pred, average='macro')))\n",
    "confusion = confusion_matrix(labels_test, labels_pred)\n",
    "print(confusion)"
   ]
  },
  {
   "cell_type": "markdown",
   "metadata": {},
   "source": [
    "### 7.8 Bagging Classifier\n",
    "<a id=\"bc\"></a>"
   ]
  },
  {
   "cell_type": "code",
   "execution_count": 118,
   "metadata": {},
   "outputs": [
    {
     "name": "stdout",
     "output_type": "stream",
     "text": [
      "BaggingClassifier(base_estimator=None, bootstrap=True, bootstrap_features=False,\n",
      "                  max_features=1.0, max_samples=1.0, n_estimators=10,\n",
      "                  n_jobs=None, oob_score=False, random_state=None, verbose=0,\n",
      "                  warm_start=False)\n"
     ]
    }
   ],
   "source": [
    "#%%pycodestyle\n",
    "bc = BaggingClassifier()\n",
    "print(bc)"
   ]
  },
  {
   "cell_type": "markdown",
   "metadata": {},
   "source": [
    "#### Hyperparameter tuning by random search"
   ]
  },
  {
   "cell_type": "code",
   "execution_count": 120,
   "metadata": {},
   "outputs": [],
   "source": [
    "#%%pycodestyle\n",
    "param_grid = {\n",
    "    'n_estimators': [5, 8, 9, 10, 11, 12, 13, 15, 20],\n",
    "    'random_state': [111]\n",
    "}"
   ]
  },
  {
   "cell_type": "code",
   "execution_count": 122,
   "metadata": {},
   "outputs": [
    {
     "name": "stderr",
     "output_type": "stream",
     "text": [
      "//miniconda3/lib/python3.7/site-packages/sklearn/model_selection/_split.py:1978: FutureWarning: The default value of cv will change from 3 to 5 in version 0.22. Specify it explicitly to silence this warning.\n",
      "  warnings.warn(CV_WARNING, FutureWarning)\n",
      "//miniconda3/lib/python3.7/site-packages/sklearn/model_selection/_search.py:266: UserWarning: The total space of parameters 9 is smaller than n_iter=10. Running 9 iterations. For exhaustive searches, use GridSearchCV.\n",
      "  % (grid_size, self.n_iter, grid_size), UserWarning)\n"
     ]
    },
    {
     "name": "stdout",
     "output_type": "stream",
     "text": [
      "Best hyperparameters ... \n",
      " BaggingClassifier(base_estimator=None, bootstrap=True, bootstrap_features=False,\n",
      "                  max_features=1.0, max_samples=1.0, n_estimators=5,\n",
      "                  n_jobs=None, oob_score=False, random_state=111, verbose=0,\n",
      "                  warm_start=False)\n"
     ]
    }
   ],
   "source": [
    "#%%pycodestyle\n",
    "# Hyperparameter tuning\n",
    "hptuning(bc, param_grid)"
   ]
  },
  {
   "cell_type": "markdown",
   "metadata": {},
   "source": [
    "#### Bagging Classifier model run"
   ]
  },
  {
   "cell_type": "code",
   "execution_count": 60,
   "metadata": {},
   "outputs": [
    {
     "name": "stdout",
     "output_type": "stream",
     "text": [
      "Recall: 0.913\n",
      "Precision: 0.941\n",
      "Accuracy: 0.966\n",
      "F1: 0.926\n",
      "[[1420   20]\n",
      " [  37  195]]\n"
     ]
    }
   ],
   "source": [
    "#%%pycodestyle\n",
    "np.set_printoptions(formatter={'float': lambda x: \"{0:0.3f}\".format(x)})\n",
    "bc = BaggingClassifier(n_estimators=5, random_state=111).fit(\n",
    "    features_train, labels_train)\n",
    "labels_pred = bc.predict(features_test)\n",
    "\n",
    "print('Recall: {:.3f}'.format(recall_score(labels_test, labels_pred,\n",
    "                                           average='macro')))\n",
    "print('Precision: {:.3f}'.format(precision_score(labels_test, labels_pred,\n",
    "                                                 average='macro')))\n",
    "print('Accuracy: {:.3f}'.format(accuracy_score(labels_test, labels_pred)))\n",
    "print('F1: {:.3f}'.format(f1_score(labels_test, labels_pred, average='macro')))\n",
    "confusion = confusion_matrix(labels_test, labels_pred)\n",
    "print(confusion)"
   ]
  },
  {
   "cell_type": "markdown",
   "metadata": {},
   "source": [
    "### 7.9 Extra Trees Classifier\n",
    "<a id=\"etc\"></a>"
   ]
  },
  {
   "cell_type": "code",
   "execution_count": 126,
   "metadata": {},
   "outputs": [
    {
     "name": "stdout",
     "output_type": "stream",
     "text": [
      "ExtraTreesClassifier(bootstrap=False, class_weight=None, criterion='gini',\n",
      "                     max_depth=None, max_features='auto', max_leaf_nodes=None,\n",
      "                     min_impurity_decrease=0.0, min_impurity_split=None,\n",
      "                     min_samples_leaf=1, min_samples_split=2,\n",
      "                     min_weight_fraction_leaf=0.0, n_estimators='warn',\n",
      "                     n_jobs=None, oob_score=False, random_state=None, verbose=0,\n",
      "                     warm_start=False)\n"
     ]
    }
   ],
   "source": [
    "#%%pycodestyle\n",
    "etc = ExtraTreesClassifier()\n",
    "print(etc)"
   ]
  },
  {
   "cell_type": "markdown",
   "metadata": {},
   "source": [
    "#### Hyperparameter tuning by random search"
   ]
  },
  {
   "cell_type": "code",
   "execution_count": 128,
   "metadata": {},
   "outputs": [],
   "source": [
    "#%%pycodestyle\n",
    "param_grid = {\n",
    "    'n_estimators': [5, 8, 9, 10, 11, 12, 13, 15, 20],\n",
    "    'random_state': [111]\n",
    "}"
   ]
  },
  {
   "cell_type": "code",
   "execution_count": 130,
   "metadata": {},
   "outputs": [
    {
     "name": "stderr",
     "output_type": "stream",
     "text": [
      "//miniconda3/lib/python3.7/site-packages/sklearn/model_selection/_split.py:1978: FutureWarning: The default value of cv will change from 3 to 5 in version 0.22. Specify it explicitly to silence this warning.\n",
      "  warnings.warn(CV_WARNING, FutureWarning)\n",
      "//miniconda3/lib/python3.7/site-packages/sklearn/model_selection/_search.py:266: UserWarning: The total space of parameters 9 is smaller than n_iter=10. Running 9 iterations. For exhaustive searches, use GridSearchCV.\n",
      "  % (grid_size, self.n_iter, grid_size), UserWarning)\n"
     ]
    },
    {
     "name": "stdout",
     "output_type": "stream",
     "text": [
      "Best hyperparameters ... \n",
      " ExtraTreesClassifier(bootstrap=False, class_weight=None, criterion='gini',\n",
      "                     max_depth=None, max_features='auto', max_leaf_nodes=None,\n",
      "                     min_impurity_decrease=0.0, min_impurity_split=None,\n",
      "                     min_samples_leaf=1, min_samples_split=2,\n",
      "                     min_weight_fraction_leaf=0.0, n_estimators=11, n_jobs=None,\n",
      "                     oob_score=False, random_state=111, verbose=0,\n",
      "                     warm_start=False)\n"
     ]
    }
   ],
   "source": [
    "#%%pycodestyle\n",
    "# Hyperparameter tuning\n",
    "hptuning(etc, param_grid)"
   ]
  },
  {
   "cell_type": "markdown",
   "metadata": {},
   "source": [
    "#### Extra Classifier model run"
   ]
  },
  {
   "cell_type": "code",
   "execution_count": 61,
   "metadata": {},
   "outputs": [
    {
     "name": "stdout",
     "output_type": "stream",
     "text": [
      "Recall: 0.924\n",
      "Precision: 0.983\n",
      "Accuracy: 0.978\n",
      "F1: 0.951\n",
      "[[1438    2]\n",
      " [  35  197]]\n"
     ]
    }
   ],
   "source": [
    "#%%pycodestyle\n",
    "np.set_printoptions(formatter={'float': lambda x: \"{0:0.3f}\".format(x)})\n",
    "etc = ExtraTreesClassifier(n_estimators=11, random_state=111).fit(\n",
    "    features_train, labels_train)\n",
    "labels_pred = etc.predict(features_test)\n",
    "\n",
    "print('Recall: {:.3f}'.format(recall_score(labels_test, labels_pred,\n",
    "                                           average='macro')))\n",
    "print('Precision: {:.3f}'.format(precision_score(labels_test, labels_pred,\n",
    "                                                 average='macro')))\n",
    "print('Accuracy: {:.3f}'.format(accuracy_score(labels_test, labels_pred)))\n",
    "print('F1: {:.3f}'.format(f1_score(labels_test, labels_pred, average='macro')))\n",
    "confusion = confusion_matrix(labels_test, labels_pred)\n",
    "print(confusion)"
   ]
  },
  {
   "cell_type": "markdown",
   "metadata": {},
   "source": [
    "### 7.10 Gradient boosting tree\n",
    "<a id=\"gb\"></a>"
   ]
  },
  {
   "cell_type": "code",
   "execution_count": 133,
   "metadata": {},
   "outputs": [
    {
     "name": "stdout",
     "output_type": "stream",
     "text": [
      "GradientBoostingClassifier(criterion='friedman_mse', init=None,\n",
      "                           learning_rate=0.1, loss='deviance', max_depth=3,\n",
      "                           max_features=None, max_leaf_nodes=None,\n",
      "                           min_impurity_decrease=0.0, min_impurity_split=None,\n",
      "                           min_samples_leaf=1, min_samples_split=2,\n",
      "                           min_weight_fraction_leaf=0.0, n_estimators=100,\n",
      "                           n_iter_no_change=None, presort='auto',\n",
      "                           random_state=None, subsample=1.0, tol=0.0001,\n",
      "                           validation_fraction=0.1, verbose=0,\n",
      "                           warm_start=False)\n"
     ]
    }
   ],
   "source": [
    "#%%pycodestyle\n",
    "gb = GradientBoostingClassifier()\n",
    "print(gb)"
   ]
  },
  {
   "cell_type": "markdown",
   "metadata": {},
   "source": [
    "#### Hyperparameter tuning by random search"
   ]
  },
  {
   "cell_type": "code",
   "execution_count": 136,
   "metadata": {},
   "outputs": [],
   "source": [
    "#%%pycodestyle\n",
    "param_grid = {\n",
    "    'learning_rate': [0.01, 0.1, 0.5, 1.0],\n",
    "    'max_depth': [1, 3, 5],\n",
    "    'n_estimators': [10, 100, 200],\n",
    "    'random_state': [111]\n",
    "}"
   ]
  },
  {
   "cell_type": "code",
   "execution_count": 138,
   "metadata": {},
   "outputs": [
    {
     "name": "stderr",
     "output_type": "stream",
     "text": [
      "//miniconda3/lib/python3.7/site-packages/sklearn/model_selection/_split.py:1978: FutureWarning: The default value of cv will change from 3 to 5 in version 0.22. Specify it explicitly to silence this warning.\n",
      "  warnings.warn(CV_WARNING, FutureWarning)\n"
     ]
    },
    {
     "name": "stdout",
     "output_type": "stream",
     "text": [
      "Best hyperparameters ... \n",
      " GradientBoostingClassifier(criterion='friedman_mse', init=None,\n",
      "                           learning_rate=0.1, loss='deviance', max_depth=5,\n",
      "                           max_features=None, max_leaf_nodes=None,\n",
      "                           min_impurity_decrease=0.0, min_impurity_split=None,\n",
      "                           min_samples_leaf=1, min_samples_split=2,\n",
      "                           min_weight_fraction_leaf=0.0, n_estimators=100,\n",
      "                           n_iter_no_change=None, presort='auto',\n",
      "                           random_state=111, subsample=1.0, tol=0.0001,\n",
      "                           validation_fraction=0.1, verbose=0,\n",
      "                           warm_start=False)\n"
     ]
    }
   ],
   "source": [
    "#%%pycodestyle\n",
    "# Hyperparameter tuning\n",
    "hptuning(gb, param_grid)"
   ]
  },
  {
   "cell_type": "markdown",
   "metadata": {},
   "source": [
    "#### Gradient Boosting Tree model run"
   ]
  },
  {
   "cell_type": "code",
   "execution_count": 62,
   "metadata": {},
   "outputs": [
    {
     "name": "stdout",
     "output_type": "stream",
     "text": [
      "Recall: 0.912\n",
      "Precision: 0.960\n",
      "Accuracy: 0.970\n",
      "F1: 0.934\n",
      "[[1429   11]\n",
      " [  39  193]]\n"
     ]
    }
   ],
   "source": [
    "#%%pycodestyle\n",
    "gb = GradientBoostingClassifier(n_estimators=200, learning_rate=0.1,\n",
    "                                max_depth=5).fit(features_train, labels_train)\n",
    "labels_predicted = gb.predict(features_test)\n",
    "confusion = confusion_matrix(labels_test, labels_predicted)\n",
    "\n",
    "print('Recall: {:.3f}'.format(recall_score(labels_test, labels_predicted,\n",
    "                                           average='macro')))\n",
    "print('Precision: {:.3f}'.format(precision_score(labels_test, labels_predicted,\n",
    "                                                 average='macro')))\n",
    "print('Accuracy: {:.3f}'.format(accuracy_score(labels_test, labels_predicted)))\n",
    "print('F1: {:.3f}'.format(f1_score(labels_test, labels_predicted,\n",
    "                                   average='macro')))\n",
    "confusion = confusion_matrix(labels_test, labels_predicted)\n",
    "print(confusion)"
   ]
  },
  {
   "cell_type": "markdown",
   "metadata": {},
   "source": [
    "### 7.11 Newral network approach\n",
    "<a id=\"mlp\"></a>"
   ]
  },
  {
   "cell_type": "code",
   "execution_count": 148,
   "metadata": {},
   "outputs": [
    {
     "name": "stdout",
     "output_type": "stream",
     "text": [
      "MLPClassifier(activation='relu', alpha=0.0001, batch_size='auto', beta_1=0.9,\n",
      "              beta_2=0.999, early_stopping=False, epsilon=1e-08,\n",
      "              hidden_layer_sizes=(100,), learning_rate='constant',\n",
      "              learning_rate_init=0.001, max_iter=200, momentum=0.9,\n",
      "              n_iter_no_change=10, nesterovs_momentum=True, power_t=0.5,\n",
      "              random_state=None, shuffle=True, solver='adam', tol=0.0001,\n",
      "              validation_fraction=0.1, verbose=False, warm_start=False)\n"
     ]
    }
   ],
   "source": [
    "#%%pycodestyle\n",
    "mlp = MLPClassifier()\n",
    "print(mlp)"
   ]
  },
  {
   "cell_type": "markdown",
   "metadata": {},
   "source": [
    "#### Hyperparameter tuning by random search"
   ]
  },
  {
   "cell_type": "code",
   "execution_count": 171,
   "metadata": {},
   "outputs": [],
   "source": [
    "#%%pycodestyle\n",
    "param_grid = {\n",
    "    'alpha': [0.0001, 0.0003, 0.003],\n",
    "    'max_iter': [10, 100, 200]\n",
    "}"
   ]
  },
  {
   "cell_type": "code",
   "execution_count": 178,
   "metadata": {},
   "outputs": [
    {
     "name": "stderr",
     "output_type": "stream",
     "text": [
      "//miniconda3/lib/python3.7/site-packages/sklearn/model_selection/_search.py:266: UserWarning: The total space of parameters 9 is smaller than n_iter=10. Running 9 iterations. For exhaustive searches, use GridSearchCV.\n",
      "  % (grid_size, self.n_iter, grid_size), UserWarning)\n",
      "[Parallel(n_jobs=-1)]: Using backend LokyBackend with 4 concurrent workers.\n",
      "[Parallel(n_jobs=-1)]: Done  27 out of  27 | elapsed:  3.6min finished\n"
     ]
    },
    {
     "data": {
      "text/plain": [
       "RandomizedSearchCV(cv=3, error_score='raise-deprecating',\n",
       "                   estimator=MLPClassifier(activation='relu', alpha=0.0001,\n",
       "                                           batch_size='auto', beta_1=0.9,\n",
       "                                           beta_2=0.999, early_stopping=False,\n",
       "                                           epsilon=1e-08,\n",
       "                                           hidden_layer_sizes=(100,),\n",
       "                                           learning_rate='constant',\n",
       "                                           learning_rate_init=0.001,\n",
       "                                           max_iter=200, momentum=0.9,\n",
       "                                           n_iter_no_change=10,\n",
       "                                           nesterovs_momentum=True, power_t=0.5,\n",
       "                                           random_state=None, shuffle=True,\n",
       "                                           solver='adam', tol=0.0001,\n",
       "                                           validation_fraction=0.1,\n",
       "                                           verbose=False, warm_start=False),\n",
       "                   iid='warn', n_iter=10, n_jobs=-1,\n",
       "                   param_distributions={'alpha': [0.0001, 0.0003, 0.003],\n",
       "                                        'max_iter': [10, 100, 200]},\n",
       "                   pre_dispatch='2*n_jobs', random_state=None, refit=True,\n",
       "                   return_train_score=False, scoring=None, verbose=2)"
      ]
     },
     "execution_count": 178,
     "metadata": {},
     "output_type": "execute_result"
    }
   ],
   "source": [
    "#%%pycodestyle\n",
    "random_grid_search = RandomizedSearchCV(\n",
    "    estimator=mlp, param_distributions=param_grid,\n",
    "    cv=3, n_jobs=-1, verbose=2, n_iter=10)\n",
    "random_grid_search.fit(features_train, labels_train)"
   ]
  },
  {
   "cell_type": "code",
   "execution_count": 63,
   "metadata": {},
   "outputs": [
    {
     "name": "stdout",
     "output_type": "stream",
     "text": [
      "Recall: 0.943\n",
      "Precision: 0.982\n",
      "Accuracy: 0.982\n",
      "F1: 0.961\n",
      "[[1436    4]\n",
      " [  26  206]]\n"
     ]
    }
   ],
   "source": [
    "#%%pycodestyle\n",
    "mlp = MLPClassifier(hidden_layer_sizes=[10], alpha=0.0003,\n",
    "                    max_iter=200, random_state=111).fit(\n",
    "    features_train, labels_train)\n",
    "labels_predicted = mlp.predict(features_test)\n",
    "confusion = confusion_matrix(labels_test, labels_predicted)\n",
    "\n",
    "print('Recall: {:.3f}'.format(recall_score(labels_test, labels_predicted,\n",
    "                                           average='macro')))\n",
    "print('Precision: {:.3f}'.format(precision_score(labels_test, labels_predicted,\n",
    "                                                 average='macro')))\n",
    "print('Accuracy: {:.3f}'.format(accuracy_score(labels_test, labels_predicted)))\n",
    "print('F1: {:.3f}'.format(f1_score(labels_test, labels_predicted,\n",
    "                                   average='macro')))\n",
    "confusion = confusion_matrix(labels_test, labels_predicted)\n",
    "print(confusion)"
   ]
  },
  {
   "cell_type": "markdown",
   "metadata": {},
   "source": [
    "#### Introduce various classifiers"
   ]
  },
  {
   "cell_type": "code",
   "execution_count": 64,
   "metadata": {},
   "outputs": [],
   "source": [
    "#%%pycodestyle\n",
    "svc = SVC(kernel='linear', gamma=5.0, random_state=111)\n",
    "knc = KNeighborsClassifier(n_neighbors=1)\n",
    "mnb = MultinomialNB(alpha=0.2)\n",
    "dtc = DecisionTreeClassifier(min_samples_split=7, random_state=111)\n",
    "lrc = LogisticRegression(solver='liblinear', penalty='l1')\n",
    "rf = RandomForestClassifier(n_estimators=29, random_state=111)\n",
    "abc = AdaBoostClassifier(n_estimators=70, random_state=111)\n",
    "bc = BaggingClassifier(n_estimators=5, random_state=111)\n",
    "etc = ExtraTreesClassifier(n_estimators=11, random_state=111)\n",
    "gb = GradientBoostingClassifier(n_estimators=200, learning_rate=0.1,\n",
    "                                max_depth=5)\n",
    "mlp = MLPClassifier(hidden_layer_sizes=[10], alpha=0.0003,\n",
    "                    max_iter=200, random_state=111)"
   ]
  },
  {
   "cell_type": "code",
   "execution_count": 65,
   "metadata": {},
   "outputs": [],
   "source": [
    "#%%pycodestyle\n",
    "clfs = {'SVC':svc, 'KN':knc, 'NB': mnb, 'DT': dtc, 'LR': lrc, 'RF': rf,\n",
    "        'AdaBoost': abc, 'BgC': bc, 'ETC': etc, 'GB': gb, 'NN':mlp}"
   ]
  },
  {
   "cell_type": "markdown",
   "metadata": {},
   "source": [
    "#### Funtions to fit these classifiers and make predictions "
   ]
  },
  {
   "cell_type": "code",
   "execution_count": 68,
   "metadata": {},
   "outputs": [],
   "source": [
    "#%%pycodestyle\n",
    "def train_classifier(clf, feature_train, labels_train):\n",
    "    \"\"\"Training by classifier of clf\"\"\"\n",
    "    clf.fit(feature_train, labels_train)"
   ]
  },
  {
   "cell_type": "code",
   "execution_count": 69,
   "metadata": {},
   "outputs": [],
   "source": [
    "#%%pycodestyle\n",
    "def predict_labels(clf, features):\n",
    "    \"\"\"Predict by using test predictors\"\"\"\n",
    "    return (clf.predict(features))"
   ]
  },
  {
   "cell_type": "markdown",
   "metadata": {},
   "source": [
    "## Case Study 1\n",
    "#### Run all classifiers and save their results\n",
    "<a id=\"cs1\"></a>"
   ]
  },
  {
   "cell_type": "code",
   "execution_count": 70,
   "metadata": {},
   "outputs": [],
   "source": [
    "#%%pycodestyle\n",
    "pred_scores = []\n",
    "for k, v in clfs.items():\n",
    "    train_classifier(v, features_train, labels_train)\n",
    "    pred = predict_labels(v, features_test)\n",
    "    pred_scores.append((k, [accuracy_score(labels_test, pred)]))"
   ]
  },
  {
   "cell_type": "code",
   "execution_count": 71,
   "metadata": {},
   "outputs": [
    {
     "name": "stderr",
     "output_type": "stream",
     "text": [
      "//miniconda3/lib/python3.7/site-packages/ipykernel_launcher.py:2: FutureWarning: from_items is deprecated. Please use DataFrame.from_dict(dict(items), ...) instead. DataFrame.from_dict(OrderedDict(items)) may be used to preserve the key order.\n",
      "  \n"
     ]
    },
    {
     "data": {
      "text/html": [
       "<div>\n",
       "<style scoped>\n",
       "    .dataframe tbody tr th:only-of-type {\n",
       "        vertical-align: middle;\n",
       "    }\n",
       "\n",
       "    .dataframe tbody tr th {\n",
       "        vertical-align: top;\n",
       "    }\n",
       "\n",
       "    .dataframe thead th {\n",
       "        text-align: right;\n",
       "    }\n",
       "</style>\n",
       "<table border=\"1\" class=\"dataframe\">\n",
       "  <thead>\n",
       "    <tr style=\"text-align: right;\">\n",
       "      <th></th>\n",
       "      <th>Score</th>\n",
       "    </tr>\n",
       "  </thead>\n",
       "  <tbody>\n",
       "    <tr>\n",
       "      <td>SVC</td>\n",
       "      <td>0.979665</td>\n",
       "    </tr>\n",
       "    <tr>\n",
       "      <td>KN</td>\n",
       "      <td>0.943780</td>\n",
       "    </tr>\n",
       "    <tr>\n",
       "      <td>NB</td>\n",
       "      <td>0.984450</td>\n",
       "    </tr>\n",
       "    <tr>\n",
       "      <td>DT</td>\n",
       "      <td>0.958732</td>\n",
       "    </tr>\n",
       "    <tr>\n",
       "      <td>LR</td>\n",
       "      <td>0.943182</td>\n",
       "    </tr>\n",
       "    <tr>\n",
       "      <td>RF</td>\n",
       "      <td>0.969498</td>\n",
       "    </tr>\n",
       "    <tr>\n",
       "      <td>AdaBoost</td>\n",
       "      <td>0.971292</td>\n",
       "    </tr>\n",
       "    <tr>\n",
       "      <td>BgC</td>\n",
       "      <td>0.965909</td>\n",
       "    </tr>\n",
       "    <tr>\n",
       "      <td>ETC</td>\n",
       "      <td>0.977871</td>\n",
       "    </tr>\n",
       "    <tr>\n",
       "      <td>GB</td>\n",
       "      <td>0.968900</td>\n",
       "    </tr>\n",
       "    <tr>\n",
       "      <td>NN</td>\n",
       "      <td>0.982057</td>\n",
       "    </tr>\n",
       "  </tbody>\n",
       "</table>\n",
       "</div>"
      ],
      "text/plain": [
       "             Score\n",
       "SVC       0.979665\n",
       "KN        0.943780\n",
       "NB        0.984450\n",
       "DT        0.958732\n",
       "LR        0.943182\n",
       "RF        0.969498\n",
       "AdaBoost  0.971292\n",
       "BgC       0.965909\n",
       "ETC       0.977871\n",
       "GB        0.968900\n",
       "NN        0.982057"
      ]
     },
     "execution_count": 71,
     "metadata": {},
     "output_type": "execute_result"
    }
   ],
   "source": [
    "#%%pycodestyle\n",
    "rlt = pd.DataFrame.from_items(pred_scores, orient='index', columns=['Score'])\n",
    "rlt"
   ]
  },
  {
   "cell_type": "markdown",
   "metadata": {},
   "source": [
    "## Case Study 2 -Stemming-\n",
    "Stemming refers to normalizing words into its base form or root form.\n",
    "For example, there are words, 'waited', 'waiting', and 'waits', The root word of them is 'wait'.\n",
    "Here, we stem our text message and clarify the effect ot stemming.\n",
    "<a id=\"cs2\"></a>"
   ]
  },
  {
   "cell_type": "code",
   "execution_count": 72,
   "metadata": {},
   "outputs": [],
   "source": [
    "#%%pycodestyle\n",
    "def stemmer(text):\n",
    "    \"\"\"Stemmer\"\"\"\n",
    "    text = text.split()\n",
    "    words = \"\"\n",
    "    for i in text:\n",
    "        stemmer = SnowballStemmer(\"english\")\n",
    "        words += (stemmer.stem(i))+\" \"\n",
    "    return words"
   ]
  },
  {
   "cell_type": "code",
   "execution_count": 73,
   "metadata": {},
   "outputs": [],
   "source": [
    "#%%pycodestyle\n",
    "text_msg = text_msg.apply(stemmer)"
   ]
  },
  {
   "cell_type": "code",
   "execution_count": 74,
   "metadata": {},
   "outputs": [],
   "source": [
    "#%%pycodestyle\n",
    "features = vectorizer.fit_transform(text_msg)"
   ]
  },
  {
   "cell_type": "code",
   "execution_count": 75,
   "metadata": {},
   "outputs": [],
   "source": [
    "#%%pycodestyle\n",
    "# Split our features to test and train set\n",
    "features_train, features_test, labels_train, labels_test = train_test_split(\n",
    "    features, sms['label'], test_size=0.3, random_state=111)"
   ]
  },
  {
   "cell_type": "code",
   "execution_count": 76,
   "metadata": {},
   "outputs": [],
   "source": [
    "#%%pycodestyle\n",
    "# Run all classifier and Save the results\n",
    "pred_scores = []\n",
    "for k, v in clfs.items():\n",
    "    train_classifier(v, features_train, labels_train)\n",
    "    pred = predict_labels(v, features_test)\n",
    "    pred_scores.append((k, [accuracy_score(labels_test, pred)]))"
   ]
  },
  {
   "cell_type": "code",
   "execution_count": 77,
   "metadata": {},
   "outputs": [
    {
     "name": "stderr",
     "output_type": "stream",
     "text": [
      "//miniconda3/lib/python3.7/site-packages/ipykernel_launcher.py:2: FutureWarning: from_items is deprecated. Please use DataFrame.from_dict(dict(items), ...) instead. DataFrame.from_dict(OrderedDict(items)) may be used to preserve the key order.\n",
      "  \n"
     ]
    },
    {
     "data": {
      "text/html": [
       "<div>\n",
       "<style scoped>\n",
       "    .dataframe tbody tr th:only-of-type {\n",
       "        vertical-align: middle;\n",
       "    }\n",
       "\n",
       "    .dataframe tbody tr th {\n",
       "        vertical-align: top;\n",
       "    }\n",
       "\n",
       "    .dataframe thead th {\n",
       "        text-align: right;\n",
       "    }\n",
       "</style>\n",
       "<table border=\"1\" class=\"dataframe\">\n",
       "  <thead>\n",
       "    <tr style=\"text-align: right;\">\n",
       "      <th></th>\n",
       "      <th>Score</th>\n",
       "      <th>Score2</th>\n",
       "    </tr>\n",
       "  </thead>\n",
       "  <tbody>\n",
       "    <tr>\n",
       "      <td>SVC</td>\n",
       "      <td>0.979665</td>\n",
       "      <td>0.981459</td>\n",
       "    </tr>\n",
       "    <tr>\n",
       "      <td>KN</td>\n",
       "      <td>0.943780</td>\n",
       "      <td>0.943182</td>\n",
       "    </tr>\n",
       "    <tr>\n",
       "      <td>NB</td>\n",
       "      <td>0.984450</td>\n",
       "      <td>0.985048</td>\n",
       "    </tr>\n",
       "    <tr>\n",
       "      <td>DT</td>\n",
       "      <td>0.958732</td>\n",
       "      <td>0.959928</td>\n",
       "    </tr>\n",
       "    <tr>\n",
       "      <td>LR</td>\n",
       "      <td>0.943182</td>\n",
       "      <td>0.946770</td>\n",
       "    </tr>\n",
       "    <tr>\n",
       "      <td>RF</td>\n",
       "      <td>0.969498</td>\n",
       "      <td>0.972488</td>\n",
       "    </tr>\n",
       "    <tr>\n",
       "      <td>AdaBoost</td>\n",
       "      <td>0.971292</td>\n",
       "      <td>0.967703</td>\n",
       "    </tr>\n",
       "    <tr>\n",
       "      <td>BgC</td>\n",
       "      <td>0.965909</td>\n",
       "      <td>0.965311</td>\n",
       "    </tr>\n",
       "    <tr>\n",
       "      <td>ETC</td>\n",
       "      <td>0.977871</td>\n",
       "      <td>0.976077</td>\n",
       "    </tr>\n",
       "    <tr>\n",
       "      <td>GB</td>\n",
       "      <td>0.968900</td>\n",
       "      <td>0.970694</td>\n",
       "    </tr>\n",
       "    <tr>\n",
       "      <td>NN</td>\n",
       "      <td>0.982057</td>\n",
       "      <td>0.985048</td>\n",
       "    </tr>\n",
       "  </tbody>\n",
       "</table>\n",
       "</div>"
      ],
      "text/plain": [
       "             Score    Score2\n",
       "SVC       0.979665  0.981459\n",
       "KN        0.943780  0.943182\n",
       "NB        0.984450  0.985048\n",
       "DT        0.958732  0.959928\n",
       "LR        0.943182  0.946770\n",
       "RF        0.969498  0.972488\n",
       "AdaBoost  0.971292  0.967703\n",
       "BgC       0.965909  0.965311\n",
       "ETC       0.977871  0.976077\n",
       "GB        0.968900  0.970694\n",
       "NN        0.982057  0.985048"
      ]
     },
     "execution_count": 77,
     "metadata": {},
     "output_type": "execute_result"
    }
   ],
   "source": [
    "#%%pycodestyle\n",
    "rlt2 = pd.DataFrame.from_items(pred_scores, orient='index', columns=['Score2'])\n",
    "rlt2 = pd.concat([rlt, rlt2], axis=1)\n",
    "rlt2"
   ]
  },
  {
   "cell_type": "markdown",
   "metadata": {},
   "source": [
    "## Case Stdy 3 -Message Length-\n",
    "Finally, the message length is taken into account in all models.\n",
    "<a id=\"cs3\"></a>"
   ]
  },
  {
   "cell_type": "code",
   "execution_count": 85,
   "metadata": {},
   "outputs": [],
   "source": [
    "#%%pycodestyle\n",
    "# message length\n",
    "lf = sms['length'].values\n",
    "newfeat = np.hstack((features.todense(), lf[:, None]))"
   ]
  },
  {
   "cell_type": "code",
   "execution_count": 86,
   "metadata": {},
   "outputs": [],
   "source": [
    "#%%pycodestyle\n",
    "# Split our features to test and train set\n",
    "features_train, features_test, labels_train, labels_test = train_test_split(\n",
    "    newfeat, sms['label'], test_size=0.3, random_state=111)"
   ]
  },
  {
   "cell_type": "code",
   "execution_count": 87,
   "metadata": {},
   "outputs": [],
   "source": [
    "# Run all classifier and Save the results\n",
    "pred_scores = [ ]\n",
    "for k, v in clfs.items():\n",
    "    train_classifier(v, features_train, labels_train)\n",
    "    pred = predict_labels(v, features_test)\n",
    "    pred_scores.append((k, [accuracy_score(labels_test, pred)]))"
   ]
  },
  {
   "cell_type": "code",
   "execution_count": 90,
   "metadata": {},
   "outputs": [
    {
     "name": "stderr",
     "output_type": "stream",
     "text": [
      "//miniconda3/lib/python3.7/site-packages/ipykernel_launcher.py:2: FutureWarning: from_items is deprecated. Please use DataFrame.from_dict(dict(items), ...) instead. DataFrame.from_dict(OrderedDict(items)) may be used to preserve the key order.\n",
      "  \n"
     ]
    },
    {
     "data": {
      "text/html": [
       "<div>\n",
       "<style scoped>\n",
       "    .dataframe tbody tr th:only-of-type {\n",
       "        vertical-align: middle;\n",
       "    }\n",
       "\n",
       "    .dataframe tbody tr th {\n",
       "        vertical-align: top;\n",
       "    }\n",
       "\n",
       "    .dataframe thead th {\n",
       "        text-align: right;\n",
       "    }\n",
       "</style>\n",
       "<table border=\"1\" class=\"dataframe\">\n",
       "  <thead>\n",
       "    <tr style=\"text-align: right;\">\n",
       "      <th></th>\n",
       "      <th>Score</th>\n",
       "      <th>Score2</th>\n",
       "      <th>Score3</th>\n",
       "    </tr>\n",
       "  </thead>\n",
       "  <tbody>\n",
       "    <tr>\n",
       "      <td>SVC</td>\n",
       "      <td>0.979665</td>\n",
       "      <td>0.981459</td>\n",
       "      <td>0.984450</td>\n",
       "    </tr>\n",
       "    <tr>\n",
       "      <td>KN</td>\n",
       "      <td>0.943780</td>\n",
       "      <td>0.943182</td>\n",
       "      <td>0.933612</td>\n",
       "    </tr>\n",
       "    <tr>\n",
       "      <td>NB</td>\n",
       "      <td>0.984450</td>\n",
       "      <td>0.985048</td>\n",
       "      <td>0.982656</td>\n",
       "    </tr>\n",
       "    <tr>\n",
       "      <td>DT</td>\n",
       "      <td>0.958732</td>\n",
       "      <td>0.959928</td>\n",
       "      <td>0.957536</td>\n",
       "    </tr>\n",
       "    <tr>\n",
       "      <td>LR</td>\n",
       "      <td>0.943182</td>\n",
       "      <td>0.946770</td>\n",
       "      <td>0.954545</td>\n",
       "    </tr>\n",
       "    <tr>\n",
       "      <td>RF</td>\n",
       "      <td>0.969498</td>\n",
       "      <td>0.972488</td>\n",
       "      <td>0.976077</td>\n",
       "    </tr>\n",
       "    <tr>\n",
       "      <td>AdaBoost</td>\n",
       "      <td>0.971292</td>\n",
       "      <td>0.967703</td>\n",
       "      <td>0.961722</td>\n",
       "    </tr>\n",
       "    <tr>\n",
       "      <td>BgC</td>\n",
       "      <td>0.965909</td>\n",
       "      <td>0.965311</td>\n",
       "      <td>0.959928</td>\n",
       "    </tr>\n",
       "    <tr>\n",
       "      <td>ETC</td>\n",
       "      <td>0.977871</td>\n",
       "      <td>0.976077</td>\n",
       "      <td>0.976675</td>\n",
       "    </tr>\n",
       "    <tr>\n",
       "      <td>GB</td>\n",
       "      <td>0.968900</td>\n",
       "      <td>0.970694</td>\n",
       "      <td>0.972488</td>\n",
       "    </tr>\n",
       "    <tr>\n",
       "      <td>NN</td>\n",
       "      <td>0.982057</td>\n",
       "      <td>0.985048</td>\n",
       "      <td>0.988636</td>\n",
       "    </tr>\n",
       "  </tbody>\n",
       "</table>\n",
       "</div>"
      ],
      "text/plain": [
       "             Score    Score2    Score3\n",
       "SVC       0.979665  0.981459  0.984450\n",
       "KN        0.943780  0.943182  0.933612\n",
       "NB        0.984450  0.985048  0.982656\n",
       "DT        0.958732  0.959928  0.957536\n",
       "LR        0.943182  0.946770  0.954545\n",
       "RF        0.969498  0.972488  0.976077\n",
       "AdaBoost  0.971292  0.967703  0.961722\n",
       "BgC       0.965909  0.965311  0.959928\n",
       "ETC       0.977871  0.976077  0.976675\n",
       "GB        0.968900  0.970694  0.972488\n",
       "NN        0.982057  0.985048  0.988636"
      ]
     },
     "execution_count": 90,
     "metadata": {},
     "output_type": "execute_result"
    }
   ],
   "source": [
    "#%%pycodestyle\n",
    "rlt3 = pd.DataFrame.from_items(pred_scores, orient='index', columns=['Score3'])\n",
    "rlt3 = pd.concat([rlt2, rlt3], axis=1)\n",
    "rlt3"
   ]
  },
  {
   "cell_type": "markdown",
   "metadata": {},
   "source": [
    "# 8. Results of Case Studies\n",
    "<a id=\"Rslts\"></a>"
   ]
  },
  {
   "cell_type": "markdown",
   "metadata": {},
   "source": [
    "### Fig.9 Result of the Case Study 1\n",
    "<a id=\"fig9\"></a>"
   ]
  },
  {
   "cell_type": "code",
   "execution_count": 92,
   "metadata": {
    "scrolled": false
   },
   "outputs": [
    {
     "data": {
      "text/plain": [
       "<matplotlib.legend.Legend at 0x11eb9c890>"
      ]
     },
     "execution_count": 92,
     "metadata": {},
     "output_type": "execute_result"
    },
    {
     "data": {
      "image/png": "[encoded data removed]",
      "text/plain": [
       "<Figure size 792x432 with 1 Axes>"
      ]
     },
     "metadata": {},
     "output_type": "display_data"
    }
   ],
   "source": [
    "#%%pycodestyle\n",
    "rlt.plot(kind='bar', ylim=(0.9, 1.0), figsize=(11, 6),\n",
    "         align='center', colormap=\"Accent\")\n",
    "sns.set(style='darkgrid')\n",
    "plt.xticks(np.arange(11), rlt.index)\n",
    "plt.ylabel('Accuracy Score')\n",
    "plt.title('Distribution by Classifier')\n",
    "plt.legend(bbox_to_anchor=(1.05, 1), loc=2, borderaxespad=0.)"
   ]
  },
  {
   "cell_type": "markdown",
   "metadata": {},
   "source": [
    "The best accuracy score is around 0.984 in the Naive Bayes classifier for multinomial models (NB). Suppor vector classifier (SVC) also shows high accuracy score. On the other hand, k-neighbor classifier and Logistic Regression show the lowest accuracy score of all."
   ]
  },
  {
   "cell_type": "markdown",
   "metadata": {},
   "source": [
    "### Fig.10 Results of the Case Studyies 1 and 2\n",
    "<a id=\"fig10\"></a>"
   ]
  },
  {
   "cell_type": "code",
   "execution_count": 93,
   "metadata": {},
   "outputs": [
    {
     "data": {
      "text/plain": [
       "<matplotlib.legend.Legend at 0x11ebb3590>"
      ]
     },
     "execution_count": 93,
     "metadata": {},
     "output_type": "execute_result"
    },
    {
     "data": {
      "image/png": "[encoded data removed]",
      "text/plain": [
       "<Figure size 792x432 with 1 Axes>"
      ]
     },
     "metadata": {},
     "output_type": "display_data"
    }
   ],
   "source": [
    "#%%pycodestyle\n",
    "rlt2.plot(kind='bar', ylim=(0.85, 1.0), figsize=(11, 6),\n",
    "          align='center', colormap=\"Accent\")\n",
    "plt.xticks(np.arange(11), rlt2.index)\n",
    "plt.ylabel('Accuracy Score')\n",
    "plt.title('Distribution by Classifier')\n",
    "plt.legend(bbox_to_anchor=(1.05, 1), loc=2, borderaxespad=0.)"
   ]
  },
  {
   "cell_type": "markdown",
   "metadata": {},
   "source": [
    "The results are almost the same with those of case study 1. However, stemming shows a little bit improvement of accuracy score in many methods."
   ]
  },
  {
   "cell_type": "markdown",
   "metadata": {},
   "source": [
    "### Fig.11 Results of the Case Studyies 1, 2 and 3\n",
    "<a id=\"fig11\"></a>"
   ]
  },
  {
   "cell_type": "code",
   "execution_count": 94,
   "metadata": {},
   "outputs": [
    {
     "data": {
      "text/plain": [
       "<matplotlib.legend.Legend at 0x11dc26b90>"
      ]
     },
     "execution_count": 94,
     "metadata": {},
     "output_type": "execute_result"
    },
    {
     "data": {
      "image/png": "[encoded data removed]",
      "text/plain": [
       "<Figure size 792x432 with 1 Axes>"
      ]
     },
     "metadata": {},
     "output_type": "display_data"
    }
   ],
   "source": [
    "#%%pycodestyle\n",
    "rlt3.plot(kind='bar', ylim=(0.85, 1.0), figsize=(11, 6),\n",
    "          align='center', colormap=\"Accent\")\n",
    "plt.xticks(np.arange(11), rlt3.index)\n",
    "plt.ylabel('Accuracy Score')\n",
    "plt.title('Distribution by Classifier')\n",
    "plt.legend(bbox_to_anchor=(1.05, 1), loc=2, borderaxespad=0.)"
   ]
  },
  {
   "cell_type": "markdown",
   "metadata": {},
   "source": [
    "#### Conclusions\n",
    "As shown the above, the accuracy score improves in Support Vector Classifier (SVC), Logistic Regression, Random Forest, Gradient Boosting, and Neural Network (NN). Each of them shows the best score of all three cases.\n",
    "On the other hand, it deteriorates in k-neighbor classifier, Naive Bayes classifier (NB), Decision Tree, AdaBoost, and Bagging Classifier.\n",
    "As a result, we can see SVC, NB and NN perform more than 0.98 of accuracy score. Then, NN perfomes the highest accuracy score of aournd 0.989 in the case study 3."
   ]
  }
 ],
 "metadata": {
  "kernelspec": {
   "display_name": "Python 3",
   "language": "python",
   "name": "python3"
  },
  "language_info": {
   "codemirror_mode": {
    "name": "ipython",
    "version": 3
   },
   "file_extension": ".py",
   "mimetype": "text/x-python",
   "name": "python",
   "nbconvert_exporter": "python",
   "pygments_lexer": "ipython3",
   "version": "3.7.4"
  }
 },
 "nbformat": 4,
 "nbformat_minor": 2
}
